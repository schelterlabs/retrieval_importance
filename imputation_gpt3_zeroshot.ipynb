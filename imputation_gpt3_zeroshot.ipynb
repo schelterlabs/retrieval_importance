{
 "cells": [
  {
   "cell_type": "code",
   "execution_count": 26,
   "id": "cb620305",
   "metadata": {},
   "outputs": [],
   "source": [
    "import pandas as pd\n",
    "import json\n",
    "\n",
    "def accuracy_on_testset(dataset, column):\n",
    "\n",
    "    testset = pd.read_csv(f'applications/imputation/data/{dataset}/test.csv')\n",
    "    \n",
    "    with open(f'applications/imputation/answers/{dataset}_gpt3_zeroshot/{dataset}_test_gpt3.jsonl', 'r') as f:\n",
    "        test_answers = [json.loads(line) for line in f.read().splitlines()]    \n",
    "\n",
    "    num_correct = 0\n",
    "    i = 0\n",
    "    for _, row in testset.iterrows():\n",
    "\n",
    "        prediction = str(test_answers[i]['answer'])\n",
    "        prediction = prediction.split('\\n')[0]\n",
    "        prediction = prediction.lower()\n",
    "\n",
    "        true_value = row[column].lower()\n",
    "\n",
    "        if true_value == prediction:\n",
    "            num_correct += 1\n",
    "        #else:\n",
    "        #    print(true_value, prediction)            \n",
    "            \n",
    "        i += 1\n",
    "\n",
    "\n",
    "    return num_correct / i    "
   ]
  },
  {
   "cell_type": "code",
   "execution_count": 27,
   "id": "d5da4583",
   "metadata": {},
   "outputs": [
    {
     "data": {
      "text/plain": [
       "0.5116279069767442"
      ]
     },
     "execution_count": 27,
     "metadata": {},
     "output_type": "execute_result"
    }
   ],
   "source": [
    "accuracy_on_testset('restaurant', 'city')"
   ]
  },
  {
   "cell_type": "code",
   "execution_count": 28,
   "id": "df0e5472",
   "metadata": {},
   "outputs": [
    {
     "data": {
      "text/plain": [
       "0.7230769230769231"
      ]
     },
     "execution_count": 28,
     "metadata": {},
     "output_type": "execute_result"
    }
   ],
   "source": [
    "accuracy_on_testset('buy', 'manufacturer')"
   ]
  },
  {
   "cell_type": "code",
   "execution_count": null,
   "id": "b0a2ebaa",
   "metadata": {},
   "outputs": [],
   "source": []
  }
 ],
 "metadata": {
  "kernelspec": {
   "display_name": "Python 3 (ipykernel)",
   "language": "python",
   "name": "python3"
  },
  "language_info": {
   "codemirror_mode": {
    "name": "ipython",
    "version": 3
   },
   "file_extension": ".py",
   "mimetype": "text/x-python",
   "name": "python",
   "nbconvert_exporter": "python",
   "pygments_lexer": "ipython3",
   "version": "3.9.16"
  }
 },
 "nbformat": 4,
 "nbformat_minor": 5
}
