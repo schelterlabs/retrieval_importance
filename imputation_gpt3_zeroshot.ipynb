{
 "cells": [
  {
   "cell_type": "code",
   "execution_count": 7,
   "id": "67251224",
   "metadata": {},
   "outputs": [],
   "source": [
    "import pandas as pd\n",
    "import json\n",
    "\n",
    "def accuracy_on_testset(dataset, column):\n",
    "    trainset = pd.read_csv(f'applications/imputation/data/{dataset}/train.csv')[column].values.tolist()\n",
    "    testset = pd.read_csv(f'applications/imputation/data/{dataset}/test.csv')[column].values.tolist()\n",
    "    validset = pd.read_csv(f'applications/imputation/data/{dataset}/valid.csv')[column].values.tolist()\n",
    "    \n",
    "    with open(f'applications/imputation/answers/{dataset}_gpt3_zeroshot/{dataset}_test_gpt3.jsonl', 'r') as f:\n",
    "        test_answers = [json.loads(line) for line in f.read().splitlines()]    \n",
    "    with open(f'applications/imputation/answers/{dataset}_gpt3_zeroshot/{dataset}_valid_gpt3.jsonl', 'r') as f:\n",
    "        valid_answers = [json.loads(line) for line in f.read().splitlines()]    \n",
    "    with open(f'applications/imputation/answers/{dataset}_gpt3_zeroshot/{dataset}_train_gpt3.jsonl', 'r') as f:\n",
    "        train_answers = [json.loads(line) for line in f.read().splitlines()]    \n",
    "\n",
    "    questions = []\n",
    "    questions.extend(validset)\n",
    "    questions.extend(testset)\n",
    "    questions.extend(trainset)\n",
    "    \n",
    "    answers = []\n",
    "    answers.extend(valid_answers)\n",
    "    answers.extend(test_answers)\n",
    "    answers.extend(train_answers)\n",
    "        \n",
    "    result = []\n",
    "    for random_seed in [441, 1, 469, 53, 280, 123, 219, 181, 5, 9, 199, 156, 93, 313, 28, 56, 359, 108, 8, 58, 407, 451, 322, 266, 268, 297, 12, 182, 320, 474, 296, 142, 64, 201, 32, 392, 98, 242, 344, 438, 427, 35, 77, 394, 39, 55, 330, 38, 67, 358, 237, 149, 405, 420, 411, 57, 488, 49, 42, 155, 109, 73, 331, 128]:\n",
    "        import random\n",
    "        id_list = [i for i in range(len(questions))]\n",
    "        random.seed(random_seed)\n",
    "        random.shuffle(id_list)\n",
    "        val_set = id_list[len(questions)//2:]\n",
    "        test_set = id_list[:len(questions)//2]\n",
    "        \n",
    "        testset = [questions[i] for i in test_set]\n",
    "        test_answers = [answers[i] for i in test_set]\n",
    "        \n",
    "\n",
    "        num_correct = 0\n",
    "        i = 0\n",
    "        for row in testset:\n",
    "\n",
    "            prediction = str(test_answers[i]['answer'])\n",
    "            prediction = prediction.split('\\n')[0]\n",
    "            prediction = prediction.lower()\n",
    "\n",
    "            true_value = row.lower()\n",
    "\n",
    "            if true_value == prediction:\n",
    "                num_correct += 1      \n",
    "\n",
    "            i += 1\n",
    "        \n",
    "        result.append(num_correct / i)\n",
    "\n",
    "    print(result)\n",
    "    return sum(result)/len(result)"
   ]
  },
  {
   "cell_type": "code",
   "execution_count": 8,
   "id": "d5da4583",
   "metadata": {},
   "outputs": [
    {
     "name": "stdout",
     "output_type": "stream",
     "text": [
      "[0.4861111111111111, 0.46296296296296297, 0.48148148148148145, 0.4351851851851852, 0.4699074074074074, 0.4236111111111111, 0.4583333333333333, 0.4583333333333333, 0.48842592592592593, 0.4699074074074074, 0.44907407407407407, 0.45601851851851855, 0.46064814814814814, 0.47453703703703703, 0.44675925925925924, 0.46296296296296297, 0.47453703703703703, 0.45601851851851855, 0.4675925925925926, 0.45601851851851855, 0.4513888888888889, 0.4652777777777778, 0.4444444444444444, 0.4861111111111111, 0.4305555555555556, 0.46064814814814814, 0.4837962962962963, 0.4675925925925926, 0.4675925925925926, 0.49074074074074076, 0.4699074074074074, 0.44675925925925924, 0.4675925925925926, 0.46064814814814814, 0.4537037037037037, 0.46064814814814814, 0.4444444444444444, 0.4652777777777778, 0.44675925925925924, 0.4583333333333333, 0.47453703703703703, 0.4351851851851852, 0.4930555555555556, 0.4444444444444444, 0.44675925925925924, 0.4513888888888889, 0.48148148148148145, 0.47685185185185186, 0.4583333333333333, 0.47685185185185186, 0.47685185185185186, 0.4791666666666667, 0.47685185185185186, 0.46296296296296297, 0.48148148148148145, 0.4513888888888889, 0.4444444444444444, 0.4699074074074074, 0.4930555555555556, 0.46296296296296297, 0.4351851851851852, 0.4652777777777778, 0.46064814814814814, 0.4699074074074074]\n"
     ]
    },
    {
     "data": {
      "text/plain": [
       "0.4629629629629631"
      ]
     },
     "execution_count": 8,
     "metadata": {},
     "output_type": "execute_result"
    }
   ],
   "source": [
    "accuracy_on_testset('restaurant', 'city')"
   ]
  },
  {
   "cell_type": "code",
   "execution_count": 9,
   "id": "df0e5472",
   "metadata": {},
   "outputs": [
    {
     "name": "stdout",
     "output_type": "stream",
     "text": [
      "[0.7815384615384615, 0.76, 0.7569230769230769, 0.7661538461538462, 0.76, 0.7569230769230769, 0.7538461538461538, 0.7630769230769231, 0.7753846153846153, 0.7415384615384616, 0.7876923076923077, 0.7723076923076924, 0.7907692307692308, 0.7661538461538462, 0.7723076923076924, 0.7538461538461538, 0.7569230769230769, 0.7753846153846153, 0.7784615384615384, 0.7476923076923077, 0.7630769230769231, 0.7446153846153846, 0.7538461538461538, 0.7661538461538462, 0.7446153846153846, 0.7507692307692307, 0.7507692307692307, 0.7723076923076924, 0.796923076923077, 0.7846153846153846, 0.7753846153846153, 0.7784615384615384, 0.7630769230769231, 0.7692307692307693, 0.7538461538461538, 0.7384615384615385, 0.7292307692307692, 0.7753846153846153, 0.7292307692307692, 0.7569230769230769, 0.7476923076923077, 0.7538461538461538, 0.7876923076923077, 0.7569230769230769, 0.7661538461538462, 0.7753846153846153, 0.7938461538461539, 0.7692307692307693, 0.7446153846153846, 0.7723076923076924, 0.7753846153846153, 0.7661538461538462, 0.7446153846153846, 0.7938461538461539, 0.7784615384615384, 0.7753846153846153, 0.76, 0.76, 0.7384615384615385, 0.7753846153846153, 0.7661538461538462, 0.7846153846153846, 0.7384615384615385, 0.7723076923076924]\n"
     ]
    },
    {
     "data": {
      "text/plain": [
       "0.7642307692307694"
      ]
     },
     "execution_count": 9,
     "metadata": {},
     "output_type": "execute_result"
    }
   ],
   "source": [
    "accuracy_on_testset('buy', 'manufacturer')"
   ]
  },
  {
   "cell_type": "code",
   "execution_count": null,
   "id": "b0a2ebaa",
   "metadata": {},
   "outputs": [],
   "source": []
  }
 ],
 "metadata": {
  "kernelspec": {
   "display_name": "Python 3 (ipykernel)",
   "language": "python",
   "name": "python3"
  },
  "language_info": {
   "codemirror_mode": {
    "name": "ipython",
    "version": 3
   },
   "file_extension": ".py",
   "mimetype": "text/x-python",
   "name": "python",
   "nbconvert_exporter": "python",
   "pygments_lexer": "ipython3",
   "version": "3.6.8"
  }
 },
 "nbformat": 4,
 "nbformat_minor": 5
}
