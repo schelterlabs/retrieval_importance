{
 "cells": [
  {
   "cell_type": "code",
   "execution_count": 1,
   "id": "ab2644e9",
   "metadata": {},
   "outputs": [],
   "source": [
    "import numpy as np\n",
    "import pandas as pd\n",
    "import json\n",
    "from pprint import pp\n",
    "import tldextract\n",
    "from scipy import stats\n",
    "\n",
    "from retrieval_importance import split, learn_importance, encode_retrievals, encode_groups, grouped_weights, \\\n",
    "    most_important_groups, least_important_groups, retrievals_from_json, evaluate, evaluate_pruned, \\\n",
    "    tune_pruning_threshold, mode\n",
    "\n",
    "np.random.seed(1311)"
   ]
  },
  {
   "cell_type": "code",
   "execution_count": 2,
   "id": "27c4f56d",
   "metadata": {},
   "outputs": [],
   "source": [
    "#application = 'imputation'\n",
    "#task = 'restaurant_bing_minilm'\n",
    "#task = 'buy_bing_minilm'\n",
    "\n",
    "application = 'question_answering'\n",
    "task = 'wikifact__director'\n",
    "\n",
    "\n",
    "retrievals = retrievals_from_json(f'./applications/{application}/{task}.jsonl')"
   ]
  },
  {
   "cell_type": "code",
   "execution_count": 3,
   "id": "067a7fec",
   "metadata": {},
   "outputs": [
    {
     "name": "stdout",
     "output_type": "stream",
     "text": [
      "{'question': 'The director of Disparaît, v is',\n",
      " 'correct_answers': ['Andrei Severny'],\n",
      " 'retrieved_answers': ['Andrei Severny', 'Andrei Severny', 'Andrei Severny', 'Auraeus Solito',\n",
      "                       'Auraeus Solito', 'Auraeus Solito', 'Auraeus Solito', 'Auraeus Solito',\n",
      "                       'Auraeus Solito.', 'Auraeus Solito', 'Auraeus Solito', 'Auraeus Solito',\n",
      "                       'Auraeus Solito', 'Auraeus Solito', 'Aureaus Solito.', 'Aureaus Solito',\n",
      "                       'Auraeus Solito', 'Auraeus Solito', 'Aureaus Solito', 'Aureaus Solito.',\n",
      "                       'Auraeus Solito', 'Auraeus Solito', 'Auraeus Solito', 'Auraeus Solito',\n",
      "                       'Aureaus Solito', 'Auraeus Solito', 'Aureaus Solito', 'Auraeus Solito',\n",
      "                       'Auraeus Solito', 'Aureaus Solito', 'Auraeus Solito', 'Aureaus Solito',\n",
      "                       'Jacques Feyder.', 'Aureaus Solito', 'Aureaus Solito', 'Auraeus Solito',\n",
      "                       'Jacques Feyder.', 'Auraeus Solito.', 'Auraeus Solito.', 'Auraeus Solito',\n",
      "                       'Auraeus Solito', 'Aureaus Solito', 'Aureaus Solito', 'Aureaus Solito',\n",
      "                       'Alfred Hitchcock', 'Auraeus Solito', 'Aureaus Solito'],\n",
      " 'retrieved_websites': ['en.wikipedia.org', 'wiki2.org', 'wikimili.com', 'www.wikidata.org',\n",
      "                        'www.frenchconjugation.com', 'conjugator.reverso.net', 'nl.abcdef.wiki',\n",
      "                        'www.imdb.com', 'english.stackexchange.com', 'www.indeed.com',\n",
      "                        'northwest.education', 'sv.abcdef.wiki', 'en.wikipedia.org',\n",
      "                        'leconjugueur.lefigaro.fr', 'atozwiki.com', 'www.indeed.com',\n",
      "                        'commons.wikimedia.org', 'www.vidinoti.com', 'www.videospace.fi',\n",
      "                        'www.definitions.net', 'www.reuters.com', 'www2.deloitte.com',\n",
      "                        'www.linguee.fr', 'www.linguee.fr', 'stackoverflow.com', 'www.extike.com',\n",
      "                        'www.lemonde.fr', 'support.lenovo.com', 'www.wordhippo.com',\n",
      "                        'www.youtube.com', 'www.letemps.ch', 'www.vitalsource.com', 'www.alamy.com',\n",
      "                        'context.reverso.net', 'www.youtube.com', 'fr.wikipedia.org',\n",
      "                        'www.alamy.com', 'www.weltbild.ch', 'context.reverso.net',\n",
      "                        'fr.wikipedia.org', 'www.huffpost.com', 'www.allocine.fr',\n",
      "                        'www.allocine.fr', 'www.imdb.com', 'www.critikat.com',\n",
      "                        'streamingfilmvfr.66ghz.com', 'www.ncbi.nlm.nih.gov']}\n"
     ]
    }
   ],
   "source": [
    "sample_to_inspect = retrievals[0]\n",
    "pp(sample_to_inspect, width=100, compact=True)"
   ]
  },
  {
   "cell_type": "code",
   "execution_count": 4,
   "id": "cbd5c776",
   "metadata": {},
   "outputs": [],
   "source": [
    "def utility(retrieved, prediction):\n",
    "    if prediction in retrieved[\"correct_answers\"]:\n",
    "        return 1.0\n",
    "    else:\n",
    "        return 0.0"
   ]
  },
  {
   "cell_type": "markdown",
   "id": "6771e8d2",
   "metadata": {},
   "source": [
    "And we define how to **group the data sources** in the corpus, in this example, we group the websites returned from Bing by domain. We aim to **learn the data importance per group**."
   ]
  },
  {
   "cell_type": "code",
   "execution_count": 5,
   "id": "3a5a7fd0",
   "metadata": {},
   "outputs": [],
   "source": [
    "def group(source):    \n",
    "    url_parts = tldextract.extract(source)\n",
    "    return f'{url_parts.domain}.{url_parts.suffix}'    "
   ]
  },
  {
   "cell_type": "markdown",
   "id": "6875d982",
   "metadata": {},
   "source": [
    "Split data into validation and test set (LLM not retrained/fine-tuned, so no training data required)"
   ]
  },
  {
   "cell_type": "code",
   "execution_count": 6,
   "id": "007f14ed",
   "metadata": {},
   "outputs": [],
   "source": [
    "validation, test = split(retrievals, 0.5)"
   ]
  },
  {
   "cell_type": "markdown",
   "id": "3f66fcd9",
   "metadata": {},
   "source": [
    "Learn data importance based on multilinear extension of the utility function, using k=10 for generating predictions via majority vote"
   ]
  },
  {
   "cell_type": "code",
   "execution_count": 7,
   "id": "79410051",
   "metadata": {},
   "outputs": [],
   "source": [
    "encoded_retrievals, mapping = encode_retrievals(validation, \"retrieved_websites\", \"retrieved_answers\", utility)\n",
    "grouping, group_mapping = encode_groups(mapping, group)\n",
    "\n",
    "k = 10\n",
    "\n",
    "weights = learn_importance(encoded_retrievals, k=k, learning_rate=10, num_steps=100, n_jobs=-1, grouping=grouping)\n",
    "domain_weights = grouped_weights(weights, grouping, group_mapping)"
   ]
  },
  {
   "cell_type": "markdown",
   "id": "ca17a365",
   "metadata": {},
   "source": [
    "Inspect 5 most important data sources"
   ]
  },
  {
   "cell_type": "code",
   "execution_count": 8,
   "id": "4ec2f5d8",
   "metadata": {},
   "outputs": [
    {
     "data": {
      "text/plain": [
       "[('alchetron.com', 1.0),\n",
       " ('allmovie.com', 1.0),\n",
       " ('bharatpedia.org', 1.0),\n",
       " ('cine.com', 1.0),\n",
       " ('everipedia.org', 1.0)]"
      ]
     },
     "execution_count": 8,
     "metadata": {},
     "output_type": "execute_result"
    }
   ],
   "source": [
    "most_important_groups(domain_weights, 5)"
   ]
  },
  {
   "cell_type": "markdown",
   "id": "ad5bd60f",
   "metadata": {},
   "source": [
    "Inspect 5 least important data sources"
   ]
  },
  {
   "cell_type": "code",
   "execution_count": 9,
   "id": "f8e4d886",
   "metadata": {},
   "outputs": [
    {
     "data": {
      "text/plain": [
       "[('avclub.com', 0.0),\n",
       " ('goodreads.com', 0.0),\n",
       " ('kinorium.com', 0.0),\n",
       " ('quora.com', 0.0),\n",
       " ('reddit.com', 0.0)]"
      ]
     },
     "execution_count": 9,
     "metadata": {},
     "output_type": "execute_result"
    }
   ],
   "source": [
    "least_important_groups(domain_weights, 5)"
   ]
  },
  {
   "cell_type": "markdown",
   "id": "76bab494",
   "metadata": {},
   "source": [
    "## Determing a pruning threshold on the validation set\n",
    "\n",
    "Goal: improve performance on task by pruning retrieval corpus based on learned importances. Approach: remove data sources with a weight below a given treshold. Tuning the threshold on our validation set."
   ]
  },
  {
   "cell_type": "code",
   "execution_count": 10,
   "id": "ab64e39e",
   "metadata": {},
   "outputs": [
    {
     "data": {
      "image/png": "[encoded data removed]",
      "text/plain": [
       "<Figure size 500x250 with 1 Axes>"
      ]
     },
     "metadata": {},
     "output_type": "display_data"
    },
    {
     "name": "stdout",
     "output_type": "stream",
     "text": [
      "Found best (normalized) utility of 0.46444 on validation set with threshold 0.50758, pruning 95 percent of domains.\n"
     ]
    }
   ],
   "source": [
    "import matplotlib.pyplot as plt\n",
    "\n",
    "percentile_range = range(0, 100, 5)\n",
    "\n",
    "tuning_result = tune_pruning_threshold(validation, domain_weights, percentile_range, \n",
    "                                       utility, group, k, normalize=True)\n",
    "\n",
    "plt.plot(percentile_range, tuning_result.achieved_utilities, marker='o')     \n",
    "plt.ylabel('normalized utility')\n",
    "plt.xlabel('percentage of pruned sources')\n",
    "\n",
    "plt.gcf().set_size_inches(5, 2.5)\n",
    "plt.tight_layout()\n",
    "plt.show()\n",
    "        \n",
    "print(f'Found best (normalized) utility of {tuning_result.best_utility:.5f} on validation set ' +\n",
    "      f'with threshold {tuning_result.best_threshold:.5f}, ' + \n",
    "      f'pruning {tuning_result.best_percentile} percent of domains.')        "
   ]
  },
  {
   "cell_type": "markdown",
   "id": "5a80de56",
   "metadata": {},
   "source": [
    "## Final evaluation on unseen test set\n",
    "    \n",
    "**Performance (accuracy) with the original retrieval corpus** without pruning    "
   ]
  },
  {
   "cell_type": "code",
   "execution_count": 11,
   "id": "b1d9e497",
   "metadata": {},
   "outputs": [
    {
     "data": {
      "text/plain": [
       "0.3074074074074074"
      ]
     },
     "execution_count": 11,
     "metadata": {},
     "output_type": "execute_result"
    }
   ],
   "source": [
    "evaluate(test, utility, k, normalize=True)"
   ]
  },
  {
   "cell_type": "markdown",
   "id": "70dc4036",
   "metadata": {},
   "source": [
    "**Performance (accuracy) after pruning the retrieval corpus** based on the tuned threshold"
   ]
  },
  {
   "cell_type": "code",
   "execution_count": 12,
   "id": "6232058b",
   "metadata": {},
   "outputs": [
    {
     "data": {
      "text/plain": [
       "0.4414814814814815"
      ]
     },
     "execution_count": 12,
     "metadata": {},
     "output_type": "execute_result"
    }
   ],
   "source": [
    "evaluate_pruned(test, utility, group, k, tuning_result.best_threshold, domain_weights, normalize=True)"
   ]
  },
  {
   "cell_type": "code",
   "execution_count": null,
   "id": "0340b83a",
   "metadata": {},
   "outputs": [],
   "source": []
  }
 ],
 "metadata": {
  "kernelspec": {
   "display_name": "Python 3 (ipykernel)",
   "language": "python",
   "name": "python3"
  },
  "language_info": {
   "codemirror_mode": {
    "name": "ipython",
    "version": 3
   },
   "file_extension": ".py",
   "mimetype": "text/x-python",
   "name": "python",
   "nbconvert_exporter": "python",
   "pygments_lexer": "ipython3",
   "version": "3.9.16"
  }
 },
 "nbformat": 4,
 "nbformat_minor": 5
}
