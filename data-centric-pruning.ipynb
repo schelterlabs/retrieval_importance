{
 "cells": [
  {
   "cell_type": "code",
   "execution_count": 1,
   "id": "ab2644e9",
   "metadata": {},
   "outputs": [],
   "source": [
    "import numpy as np\n",
    "import pandas as pd\n",
    "import json\n",
    "from pprint import pp\n",
    "import tldextract\n",
    "from scipy import stats\n",
    "\n",
    "from retrieval_importance import split, learn_importance, encode_retrievals, encode_groups, grouped_weights, \\\n",
    "    most_important_groups, least_important_groups, retrievals_from_json, evaluate, evaluate_pruned, \\\n",
    "    tune_pruning_threshold\n",
    "\n",
    "np.random.seed(1311)"
   ]
  },
  {
   "cell_type": "code",
   "execution_count": 2,
   "id": "27c4f56d",
   "metadata": {},
   "outputs": [],
   "source": [
    "application = 'question_answering'\n",
    "task = 'wikifact__place_of_birth'\n",
    "\n",
    "#application = 'question_answering'\n",
    "#task = 'wikifact__director'\n",
    "\n",
    "#application = 'imputation'\n",
    "#task = 'buy'\n",
    "\n",
    "retrievals = retrievals_from_json(f'./applications/{application}/{task}.jsonl')"
   ]
  },
  {
   "cell_type": "code",
   "execution_count": 3,
   "id": "067a7fec",
   "metadata": {},
   "outputs": [
    {
     "name": "stdout",
     "output_type": "stream",
     "text": [
      "{'question': 'Bill Belzer was born in',\n",
      " 'correct_answers': ['Kansas City', 'Kansas City, MO', 'KCMO', 'KC', 'Kansas City, Missouri',\n",
      "                     'K.C.', 'Kansas City', 'Kansas City'],\n",
      " 'retrieved_answers': ['Kansas City, Missouri', 'United States', 'Kansas City, Missouri',\n",
      "                       'Kansas City, Missouri', 'Kansas City', 'Kansas City, Kansas', 'Albia, IA',\n",
      "                       'Iowa City', 'Bridgeport, Connecticut', '1884 in Cronenberg, a part of W',\n",
      "                       'Isleton CA', 'United States', 'New York', 'New York', 'Kirksville',\n",
      "                       'North Salem, Missouri', 'Albia, Iowa', 'New England, North Dakota',\n",
      "                       'Centerville, IA', 'Meadville, Missouri. He served in the U',\n",
      "                       'Bridgeport, Connecticut', 'Bridgeport, Connecticut', 'New York', 'New York',\n",
      "                       'Bridgeport, Connecticut', 'New York', 'North Salem, Missouri', 'Albia',\n",
      "                       'Bridgeport, Connecticut on August 4, 1944', 'Kirksville, Missouri',\n",
      "                       'North Salem, Missouri', 'Bridgeport, Connecticut, on August 4, 1944',\n",
      "                       'Tupelo', 'New York', 'Bridgeport, Connecticut on August 4, 1944.',\n",
      "                       'Kansas City', 'Albia, Iowa', '1937',\n",
      "                       'Chicago, Illinois in 1950. He is a former', 'New York', 'Albia',\n",
      "                       'North Salem, MO', 'Albia', 'Kansas City', 'North Salem, Missouri',\n",
      "                       'New York', 'New York City, New York, and grew up',\n",
      "                       'Indianapolis, Indiana, on June 30, 1869'],\n",
      " 'retrieved_websites': ['en.everybodywiki.com', 'depthbio.com', 'prabook.com',\n",
      "                        'www.liquisearch.com', 'www.famedborn.com', 'alchetron.com',\n",
      "                        'www.mtayrnews.com', 'www.press-citizen.com', 'www.thefamouspeople.com',\n",
      "                        'heimwerk.co', 'www.reunion.com', 'buzzlearn.com', 'en.wikipedia.org',\n",
      "                        'rateyourmusic.com', 'clustrmaps.com', 'www.rhodesfh.com',\n",
      "                        'www.tributearchive.com', 'www.findagrave.com', 'www.legacy.com',\n",
      "                        'ballotpedia.org', 'www.imdb.com', 'marriedbiography.com',\n",
      "                        'billbelzer.substack.com', 'www.celebsages.com', 'bijog.com',\n",
      "                        'www.names.org', 'de.findagrave.com', 'www.albianews.com',\n",
      "                        'www.celebritynetworth.com', 'www.legacy.com', 'www.findagrave.com',\n",
      "                        'biographyhost.com', 'autumnsouvenir.blogspot.com', 'www.famousdetails.com',\n",
      "                        'www.sunsigns.org', 'www.wikiwand.com', 'www.tributearchive.com',\n",
      "                        'jfkfacts.org', 'www.linkedin.com', 'celebwikigossip.com',\n",
      "                        'www.newsbreak.com', 'www.rhodesfh.com', 'travis-noe.com',\n",
      "                        'www.primidi.com', 'www.tributes.com', 'marriedbio.com', 'www.imdb.com',\n",
      "                        'en-academic.com']}\n"
     ]
    }
   ],
   "source": [
    "pp(retrievals[0], width=100, compact=True)"
   ]
  },
  {
   "cell_type": "code",
   "execution_count": 4,
   "id": "fdf87dc0",
   "metadata": {},
   "outputs": [],
   "source": [
    "validation, test = split(retrievals, 0.5)"
   ]
  },
  {
   "cell_type": "code",
   "execution_count": 5,
   "id": "cbd5c776",
   "metadata": {},
   "outputs": [],
   "source": [
    "def utility(retrieved, prediction):\n",
    "    if prediction in retrieved[\"correct_answers\"]:\n",
    "        return 1.0\n",
    "    else:\n",
    "        return 0.0\n",
    "    \n",
    "def group(retrieved_from):    \n",
    "    url_parts = tldextract.extract(retrieved_from)\n",
    "    return f'{url_parts.domain}.{url_parts.suffix}'    "
   ]
  },
  {
   "cell_type": "code",
   "execution_count": 6,
   "id": "79410051",
   "metadata": {},
   "outputs": [],
   "source": [
    "encoded_retrievals, mapping = encode_retrievals(validation, \"retrieved_websites\", \"retrieved_answers\", utility)\n",
    "grouping, group_mapping = encode_groups(mapping, group)\n",
    "\n",
    "k = 10\n",
    "\n",
    "weights = learn_importance(encoded_retrievals, k=k, learning_rate=10, num_steps=100, n_jobs=-1, grouping=grouping)\n",
    "domain_weights = grouped_weights(weights, grouping, group_mapping)"
   ]
  },
  {
   "cell_type": "code",
   "execution_count": 7,
   "id": "6645620c",
   "metadata": {},
   "outputs": [
    {
     "data": {
      "text/plain": [
       "[('alchetron.com', 1.0),\n",
       " ('biogossipy.com', 1.0),\n",
       " ('biographies.net', 1.0),\n",
       " ('bornglorious.com', 1.0),\n",
       " ('buzzlearn.com', 1.0)]"
      ]
     },
     "execution_count": 7,
     "metadata": {},
     "output_type": "execute_result"
    }
   ],
   "source": [
    "most_important_groups(domain_weights, 5)"
   ]
  },
  {
   "cell_type": "code",
   "execution_count": 8,
   "id": "5c5e4210",
   "metadata": {},
   "outputs": [
    {
     "data": {
      "text/plain": [
       "[('ancestry.com', 0.0),\n",
       " ('ancientfaces.com', 0.0),\n",
       " ('celebsages.com', 0.0),\n",
       " ('familysearch.org', 0.0),\n",
       " ('famousbirthdays.com', 0.0)]"
      ]
     },
     "execution_count": 8,
     "metadata": {},
     "output_type": "execute_result"
    }
   ],
   "source": [
    "least_important_groups(domain_weights, 5)"
   ]
  },
  {
   "cell_type": "code",
   "execution_count": 9,
   "id": "ab64e39e",
   "metadata": {},
   "outputs": [
    {
     "data": {
      "image/png": "[encoded data removed]",
      "text/plain": [
       "<Figure size 640x480 with 1 Axes>"
      ]
     },
     "metadata": {},
     "output_type": "display_data"
    },
    {
     "name": "stdout",
     "output_type": "stream",
     "text": [
      "Found best (normalized) utility of 0.5481481481481482 on validation set with threshold 0.5139479834301458, removing 90 percent of domains\n"
     ]
    }
   ],
   "source": [
    "import matplotlib.pyplot as plt\n",
    "\n",
    "percentile_range = range(0, 100, 5)\n",
    "\n",
    "tuning_result = tune_pruning_threshold(validation, domain_weights, percentile_range, \n",
    "                                       utility, group, k, normalize=True)\n",
    "\n",
    "plt.plot(percentile_range, tuning_result.achieved_utilities)     \n",
    "plt.ylabel('normalized utility')\n",
    "plt.xlabel('percentage of pruned sources')\n",
    "plt.show()\n",
    "        \n",
    "print(f'Found best (normalized) utility of {tuning_result.best_utility} on validation set ' +\n",
    "      f'with threshold {tuning_result.best_threshold}, ' + \n",
    "      f'removing {tuning_result.best_percentile} percent of domains')        "
   ]
  },
  {
   "cell_type": "code",
   "execution_count": 10,
   "id": "b1d9e497",
   "metadata": {},
   "outputs": [
    {
     "data": {
      "text/plain": [
       "0.4777777777777778"
      ]
     },
     "execution_count": 10,
     "metadata": {},
     "output_type": "execute_result"
    }
   ],
   "source": [
    "evaluate(test, utility, k, normalize=True)"
   ]
  },
  {
   "cell_type": "code",
   "execution_count": 11,
   "id": "6232058b",
   "metadata": {},
   "outputs": [
    {
     "data": {
      "text/plain": [
       "0.5281481481481481"
      ]
     },
     "execution_count": 11,
     "metadata": {},
     "output_type": "execute_result"
    }
   ],
   "source": [
    "evaluate_pruned(test, utility, group, k, tuning_result.best_threshold, domain_weights, normalize=True)"
   ]
  },
  {
   "cell_type": "code",
   "execution_count": null,
   "id": "19ca23ca",
   "metadata": {},
   "outputs": [],
   "source": []
  }
 ],
 "metadata": {
  "kernelspec": {
   "display_name": "Python 3 (ipykernel)",
   "language": "python",
   "name": "python3"
  },
  "language_info": {
   "codemirror_mode": {
    "name": "ipython",
    "version": 3
   },
   "file_extension": ".py",
   "mimetype": "text/x-python",
   "name": "python",
   "nbconvert_exporter": "python",
   "pygments_lexer": "ipython3",
   "version": "3.9.16"
  }
 },
 "nbformat": 4,
 "nbformat_minor": 5
}
