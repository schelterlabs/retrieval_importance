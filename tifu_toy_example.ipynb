{
 "cells": [
  {
   "cell_type": "code",
   "execution_count": 28,
   "id": "cc9920d6",
   "metadata": {},
   "outputs": [],
   "source": [
    "import numpy as np\n",
    "from retrieval_importance import learn_importance, encode_retrievals"
   ]
  },
  {
   "cell_type": "code",
   "execution_count": 45,
   "id": "9571c9f1",
   "metadata": {},
   "outputs": [],
   "source": [
    "retrievals = [\n",
    "    {\n",
    "        'user': 'u1',\n",
    "        'next_basket': [0, 2],\n",
    "        'neighbors': ['u2', 'u3', 'u4'],\n",
    "        'neighbor_representations': [\n",
    "            [1.0, 0.0, 0.0, 0.0, 0.0], \n",
    "            [0.0, 1.0, 0.0, 0.0, 0.0], \n",
    "            [1.0, 0.0, 1.0, 0.0, 0.0]],\n",
    "    }\n",
    "]"
   ]
  },
  {
   "cell_type": "code",
   "execution_count": 50,
   "id": "d0bb272f",
   "metadata": {},
   "outputs": [],
   "source": [
    "def recall_at_n(y_true, y_pred, n):\n",
    "    a = len(set(y_pred[:n]).intersection(set(y_true)))\n",
    "    b = len(set(y_true))\n",
    "    return a/b"
   ]
  },
  {
   "cell_type": "code",
   "execution_count": 51,
   "id": "766119c6",
   "metadata": {},
   "outputs": [],
   "source": [
    "def utility(retrieval, prediction):    \n",
    "\n",
    "    predictions = [(item, weight) for item, weight in enumerate(prediction) if weight > 0.0]    \n",
    "    prediction_sorted = sorted(predictions, key=lambda pred: pred[1], reverse=True)\n",
    "    top_items = [pred[0] for pred in prediction_sorted]\n",
    "    \n",
    "    recall = recall_at_n(retrieval['next_basket'], top_items, 2)\n",
    "    \n",
    "    return np.around(recall, decimals=2) "
   ]
  },
  {
   "cell_type": "code",
   "execution_count": 52,
   "id": "b0d902e6",
   "metadata": {},
   "outputs": [],
   "source": [
    "encoded_retrievals, mapping = encode_retrievals(retrievals, \"neighbors\", \"neighbor_representations\", utility)"
   ]
  },
  {
   "cell_type": "code",
   "execution_count": 53,
   "id": "5eb319c5",
   "metadata": {},
   "outputs": [
    {
     "data": {
      "text/plain": [
       "[{'retrieved': [0, 1, 2], 'utility_contributions': [0.5, 0.0, 1.0]}]"
      ]
     },
     "execution_count": 53,
     "metadata": {},
     "output_type": "execute_result"
    }
   ],
   "source": [
    "encoded_retrievals"
   ]
  },
  {
   "cell_type": "code",
   "execution_count": 54,
   "id": "b14370c2",
   "metadata": {},
   "outputs": [],
   "source": [
    "v = learn_importance(encoded_retrievals, k=2, learning_rate=0.1, num_steps=10)"
   ]
  },
  {
   "cell_type": "code",
   "execution_count": 55,
   "id": "8c2b27b2",
   "metadata": {},
   "outputs": [
    {
     "data": {
      "text/plain": [
       "[0.6094571942289575, 0.3136746724370344, 0.8829487671174878]"
      ]
     },
     "execution_count": 55,
     "metadata": {},
     "output_type": "execute_result"
    }
   ],
   "source": [
    "v"
   ]
  },
  {
   "cell_type": "code",
   "execution_count": null,
   "id": "73ae4f44",
   "metadata": {},
   "outputs": [],
   "source": []
  }
 ],
 "metadata": {
  "kernelspec": {
   "display_name": "Python 3 (ipykernel)",
   "language": "python",
   "name": "python3"
  },
  "language_info": {
   "codemirror_mode": {
    "name": "ipython",
    "version": 3
   },
   "file_extension": ".py",
   "mimetype": "text/x-python",
   "name": "python",
   "nbconvert_exporter": "python",
   "pygments_lexer": "ipython3",
   "version": "3.9.16"
  }
 },
 "nbformat": 4,
 "nbformat_minor": 5
}
