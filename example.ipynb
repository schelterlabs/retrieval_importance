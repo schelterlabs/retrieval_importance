{
 "cells": [
  {
   "cell_type": "code",
   "execution_count": 1,
   "id": "ab2644e9",
   "metadata": {},
   "outputs": [],
   "source": [
    "import numpy as np\n",
    "import pandas as pd\n",
    "import json\n",
    "from pprint import pp\n",
    "import tldextract\n",
    "from scipy import stats\n",
    "\n",
    "from retrieval_importance import learn_importance, encode_retrievals, encode_groups, v_grouped, \\\n",
    "    most_important_groups, least_important_groups\n",
    "\n",
    "np.random.seed(7334)\n",
    "\n",
    "k = 10\n",
    "validation_fraction = 0.33"
   ]
  },
  {
   "cell_type": "code",
   "execution_count": 2,
   "id": "27c4f56d",
   "metadata": {},
   "outputs": [],
   "source": [
    "#application = 'imputation' #\n",
    "#task = 'restaurant'\n",
    "\n",
    "application = 'question_answering'\n",
    "task = 'wikifact__genre'\n",
    "\n",
    "retrievals = []\n",
    "\n",
    "with open(f'./applications/{application}/{task}.jsonl') as file:\n",
    "    for line in file:\n",
    "        retrievals.append(json.loads(line))"
   ]
  },
  {
   "cell_type": "code",
   "execution_count": 3,
   "id": "067a7fec",
   "metadata": {},
   "outputs": [
    {
     "name": "stdout",
     "output_type": "stream",
     "text": [
      "{'question': 'The genre of Zettai Zetsumei is a/an',\n",
      " 'correct_answers': ['J-pop', 'Japanese pop', 'jpop', 'Japanese popular music'],\n",
      " 'retrieved_answers': ['heavy metal', 'action adventure', 'traditional folk music',\n",
      "                       'traditional folk music', 'traditional folk music', 'traditional folk music',\n",
      "                       'comedy', 'instrumental', 'shounen, fantasy, supernatural, gender b',\n",
      "                       'manga', 'doujinshi', 'traditional folk music', 'traditional folk music',\n",
      "                       'classical music', 'rock music', 'traditional folk music',\n",
      "                       'traditional folk music', 'horror', 'action', 'traditional folk music',\n",
      "                       'shounen manga', 'traditional folk music', 'comedy', 'adventure game',\n",
      "                       'alternative rock', 'traditional folk music', 'traditional folk music',\n",
      "                       'traditional folk music', 'action, adventure, role-playing, strategy,',\n",
      "                       'action', 'action', 'traditional folk music', 'comedy', 'rock',\n",
      "                       'traditional folk music', 'action/adventure', 'comedy'],\n",
      " 'retrieved_websites': ['en.wikipedia.org', 'disasterreport.fandom.com',\n",
      "                        'yakusokunoneverland.fandom.com', 'musicstax.com', 'www.goodreads.com',\n",
      "                        'jpop.fandom.com', 'myanimelist.net', 'genius.com', 'mangafreak.to',\n",
      "                        'www.mangaupdates.com', 'www.mangaupdates.com', 'www.wikiwand.com',\n",
      "                        'genius.com', 'www.qobuz.com', 'www.onlinepianist.com', 'www.qobuz.com',\n",
      "                        'www.goodreads.com', 'mangakakalot.so', 'mangatoto.com', 'www.eruce.com',\n",
      "                        'mangapark.net', 'subslikescript.com', 'allanime.site',\n",
      "                        'archive.thegia.com', 'rateyourmusic.com', 'www.tumpik.com', 'gaana.com',\n",
      "                        'www.ipaddress.com', 'taodung.com', 'retroemulators.com',\n",
      "                        'www.video-games-museum.com', 'www.mymusicsheet.com', 'myanimelist.net',\n",
      "                        'en.unionpedia.org', 'gaana.com', 'w.mangairo.com',\n",
      "                        'www.mangaupdates.com']}\n"
     ]
    }
   ],
   "source": [
    "pp(retrievals[5], width=100, compact=True)"
   ]
  },
  {
   "cell_type": "code",
   "execution_count": 4,
   "id": "fdf87dc0",
   "metadata": {},
   "outputs": [],
   "source": [
    "np.random.shuffle(retrievals)\n",
    "\n",
    "split_index = int(len(retrievals) * validation_fraction)\n",
    "validation, test = retrievals[:split_index], retrievals[split_index:]"
   ]
  },
  {
   "cell_type": "code",
   "execution_count": 5,
   "id": "cbd5c776",
   "metadata": {},
   "outputs": [],
   "source": [
    "def utility(retrieval, prediction):\n",
    "    if prediction in retrieval[\"correct_answers\"]:\n",
    "        return 1.0\n",
    "    else:\n",
    "        return 0.0"
   ]
  },
  {
   "cell_type": "code",
   "execution_count": 6,
   "id": "d4c1a1a9",
   "metadata": {},
   "outputs": [],
   "source": [
    "def group(retrieved):    \n",
    "    url_parts = tldextract.extract(retrieved)\n",
    "    return f'{url_parts.domain}.{url_parts.suffix}'"
   ]
  },
  {
   "cell_type": "code",
   "execution_count": 7,
   "id": "79410051",
   "metadata": {},
   "outputs": [],
   "source": [
    "encoded_retrievals, mapping = encode_retrievals(validation, \"retrieved_websites\", \"retrieved_answers\", utility)\n",
    "grouping, group_mapping = encode_groups(mapping, group)"
   ]
  },
  {
   "cell_type": "code",
   "execution_count": 8,
   "id": "f193fa1c",
   "metadata": {},
   "outputs": [],
   "source": [
    "weights = learn_importance(encoded_retrievals, k=k, learning_rate=10, num_steps=100, n_jobs=-1, grouping=grouping)"
   ]
  },
  {
   "cell_type": "code",
   "execution_count": 9,
   "id": "8d5676de",
   "metadata": {},
   "outputs": [],
   "source": [
    "source_weights = v_grouped(weights, grouping, group_mapping)"
   ]
  },
  {
   "cell_type": "code",
   "execution_count": 10,
   "id": "d4ad790e",
   "metadata": {},
   "outputs": [
    {
     "data": {
      "text/plain": [
       "[('alchetron.com', 1.0),\n",
       " ('allmusic.com', 1.0),\n",
       " ('bandnext.com', 1.0),\n",
       " ('everipedia.org', 1.0),\n",
       " ('imdb.com', 1.0),\n",
       " ('peoplepill.com', 1.0),\n",
       " ('wiki2.org', 1.0),\n",
       " ('wikiwand.com', 1.0),\n",
       " ('wikipedia.org', 0.9997276602099302),\n",
       " ('filmaffinity.com', 0.9777853865563869)]"
      ]
     },
     "execution_count": 10,
     "metadata": {},
     "output_type": "execute_result"
    }
   ],
   "source": [
    "most_important_groups(source_weights, 10)"
   ]
  },
  {
   "cell_type": "code",
   "execution_count": 11,
   "id": "7fa42f30",
   "metadata": {},
   "outputs": [
    {
     "data": {
      "text/plain": [
       "[('cbr.com', 0.0),\n",
       " ('coursementor.com', 0.0),\n",
       " ('discogs.com', 0.0),\n",
       " ('enotes.com', 0.0),\n",
       " ('goodreads.com', 0.0),\n",
       " ('merriam-webster.com', 0.0),\n",
       " ('qobuz.com', 0.0),\n",
       " ('quizlet.com', 0.0),\n",
       " ('quora.com', 0.0),\n",
       " ('hitparade.ch', 0.001592945006189497)]"
      ]
     },
     "execution_count": 11,
     "metadata": {},
     "output_type": "execute_result"
    }
   ],
   "source": [
    "least_important_groups(source_weights, 10)"
   ]
  },
  {
   "cell_type": "code",
   "execution_count": 12,
   "id": "d078f975",
   "metadata": {},
   "outputs": [],
   "source": [
    "def pruned_prediction(sample, utility, k, threshold, source_weights):\n",
    "    predictions_with_sources = zip(sample['retrieved_answers'], sample['retrieved_websites'])\n",
    "\n",
    "    pruned_predictions = [prediction for prediction, source in predictions_with_sources if\n",
    "                          source not in source_weights or source_weights[source] >= threshold]\n",
    "\n",
    "    pruned_predictions = pruned_predictions[:k]\n",
    "\n",
    "    mode = max(set(pruned_predictions), key=pruned_predictions.count)\n",
    "\n",
    "    return utility(sample, mode)\n",
    "\n",
    "\n",
    "def evaluate(samples, utility, k, threshold, source_weights, normalize=False):\n",
    "    aggregate_utility = 0.0\n",
    "\n",
    "    for sample in samples:\n",
    "        aggregate_utility += pruned_prediction(sample, utility, k, threshold, source_weights)\n",
    "\n",
    "    if normalize:    \n",
    "        return aggregate_utility / len(samples)        \n",
    "    else:        \n",
    "        return aggregate_utility"
   ]
  },
  {
   "cell_type": "code",
   "execution_count": 13,
   "id": "ab64e39e",
   "metadata": {},
   "outputs": [
    {
     "data": {
      "image/png": "[encoded data removed]",
      "text/plain": [
       "<Figure size 640x480 with 1 Axes>"
      ]
     },
     "metadata": {},
     "output_type": "display_data"
    },
    {
     "name": "stdout",
     "output_type": "stream",
     "text": [
      "Found best (normalized) utility of 0.20650953984287318 on validation set with threshold 0.572293340364702, removing 97 percent of sources\n"
     ]
    }
   ],
   "source": [
    "best_utility = 0.0\n",
    "best_threshold = 0.0\n",
    "best_percentile = 0\n",
    "\n",
    "achieved_utilities = []\n",
    "\n",
    "percentile_range = range(0, 100, 1)\n",
    "\n",
    "for percentile in percentile_range:\n",
    "    threshold = np.percentile(list(source_weights.values()), percentile)\n",
    "\n",
    "    achieved_utility = evaluate(validation, utility, k, threshold, source_weights, normalize=True)  \n",
    "    \n",
    "    achieved_utilities.append(achieved_utility)\n",
    "    \n",
    "    if achieved_utility >= best_utility:\n",
    "        best_utility = achieved_utility\n",
    "        best_threshold = threshold\n",
    "        best_percentile = percentile        \n",
    "\n",
    "import matplotlib.pyplot as plt\n",
    "\n",
    "plt.plot(percentile_range, achieved_utilities)     \n",
    "plt.ylabel('normalized utility')\n",
    "plt.xlabel('percentage of pruned sources')\n",
    "plt.show()\n",
    "        \n",
    "print(f'Found best (normalized) utility of {best_utility} on validation set with threshold {best_threshold}, ' + \n",
    "      f'removing {best_percentile} percent of sources')        "
   ]
  },
  {
   "cell_type": "code",
   "execution_count": 14,
   "id": "b1d9e497",
   "metadata": {},
   "outputs": [
    {
     "data": {
      "text/plain": [
       "0.14096185737976782"
      ]
     },
     "execution_count": 14,
     "metadata": {},
     "output_type": "execute_result"
    }
   ],
   "source": [
    "evaluate(test, utility, k, 0.0, source_weights, normalize=True)"
   ]
  },
  {
   "cell_type": "code",
   "execution_count": 15,
   "id": "6232058b",
   "metadata": {},
   "outputs": [
    {
     "data": {
      "text/plain": [
       "0.1564400221116639"
      ]
     },
     "execution_count": 15,
     "metadata": {},
     "output_type": "execute_result"
    }
   ],
   "source": [
    "evaluate(test, utility, k, best_threshold, source_weights, normalize=True)"
   ]
  },
  {
   "cell_type": "code",
   "execution_count": null,
   "id": "b9eae5fe",
   "metadata": {},
   "outputs": [],
   "source": []
  }
 ],
 "metadata": {
  "kernelspec": {
   "display_name": "Python 3 (ipykernel)",
   "language": "python",
   "name": "python3"
  },
  "language_info": {
   "codemirror_mode": {
    "name": "ipython",
    "version": 3
   },
   "file_extension": ".py",
   "mimetype": "text/x-python",
   "name": "python",
   "nbconvert_exporter": "python",
   "pygments_lexer": "ipython3",
   "version": "3.9.16"
  }
 },
 "nbformat": 4,
 "nbformat_minor": 5
}
