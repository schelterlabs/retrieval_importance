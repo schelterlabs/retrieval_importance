{
 "cells": [
  {
   "cell_type": "code",
   "execution_count": 1,
   "id": "fa1c77b7",
   "metadata": {},
   "outputs": [],
   "source": [
    "import json\n",
    "from pprint import pp\n",
    "from retrieval_importance import learn_importance, encode_retrievals, most_important, least_important\n",
    "from retrieval_importance.utils import get_project_root"
   ]
  },
  {
   "cell_type": "code",
   "execution_count": 2,
   "id": "bc35f7a4",
   "metadata": {},
   "outputs": [],
   "source": [
    "retrievals = []\n",
    "with open(f'{str(get_project_root())}/test_data/wikifact/currency.jsonl') as f:\n",
    "    for line in f:\n",
    "        retrievals.append(json.loads(line))"
   ]
  },
  {
   "cell_type": "code",
   "execution_count": 3,
   "id": "ce454681",
   "metadata": {},
   "outputs": [
    {
     "name": "stdout",
     "output_type": "stream",
     "text": [
      "{'question': 'The currency of Mezhathur is',\n",
      " 'correct_answers': ['Indian rupee', 'Rupaya', 'INR', 'Rupee'],\n",
      " 'retrieved_websites': ['en.wikipedia.org', 'www.wikiwand.com', 'wise.com', 'en.bharatpedia.org',\n",
      "                        'travelguide-marrakech.com', 'en.wikipedia.org', 'zanzibar.guru',\n",
      "                        'www.hungarybudapestguide.com', 'www.mauritiusinsideout.com', 'mycoreo.com',\n",
      "                        'www.introducingmarrakech.com', 'www.xe.com', 'www.tripmondo.com',\n",
      "                        'www.holidify.com', 'www.memphistours.com', 'alchetron.com',\n",
      "                        'www.visagov.com', 'dbpedia.org', 'wise.com', 'www.tripsavvy.com',\n",
      "                        'www.holidify.com', 'wordtype.org', 'en-academic.com', 'hometohavana.com',\n",
      "                        'www.worldatlas.com', 'en.everybodywiki.com', 'pincodes.info',\n",
      "                        'www.smallworldfs.com', 'speedposts.in', 'www.maltainfoguide.com',\n",
      "                        'www.maplandia.com', 'www.facebook.com', 'www.facebook.com', 'mapcarta.com',\n",
      "                        'www.owlapps.net', 'www.primidi.com', 'en.unionpedia.org',\n",
      "                        'www.prokerala.com', 'www.rome2rio.com', 'www.rome2rio.com', 'vymaps.com',\n",
      "                        'taxihowmuch.com', 'relatedwords.io', 'www.icbse.com', 'news.abplive.com',\n",
      "                        'www.dwarkacourier.com', 'www.giftacrossindia.com', 'www.airbnb.co.in',\n",
      "                        'www.arounddeal.com'],\n",
      " 'retrieved_answers': ['Indian Rupee', 'Indian Rupee', 'dirham', 'Indian Rupee', 'dirham', 'rupee',\n",
      "                       'shilling', 'rupee', 'rupee', 'rupee', 'rupee', 'rupee', 'rupee', 'rupee',\n",
      "                       'euro', 'Indian Rupee', 'Ethiopian birr', 'Indian Rupee', 'rupee',\n",
      "                       'Indian rupee', 'rupee', 'rupee', 'Indian Rupee', 'rupee', 'euro',\n",
      "                       'Indian rupee', 'Indian Rupee', 'rupee', 'euro', 'euro', 'rupee',\n",
      "                       'Wrong !!Mezhathur, Palakkad, India. 17 likes. A nice peace full village '\n",
      "                       'full of life and with the true serinity that provides peace for evryone '\n",
      "                       '.....',\n",
      "                       'Indian Rupee', 'Indian Rupee', 'Indian Rupee', 'euro', 'rupee',\n",
      "                       'Indian Rupee', 'rupee', 'euro', 'Indian Rupee', 'Indian Rupee', 'rupee',\n",
      "                       'rupee', 'rupee', 'euro', 'rupee', 'INR', 'euro']}\n"
     ]
    }
   ],
   "source": [
    "pp(retrievals[0], width=100, compact=True)"
   ]
  },
  {
   "cell_type": "code",
   "execution_count": 4,
   "id": "c9ee59d4",
   "metadata": {},
   "outputs": [],
   "source": [
    "def utility(retrieval, prediction):\n",
    "    if prediction in retrieval[\"correct_answers\"]:\n",
    "        return 1.0\n",
    "    else:\n",
    "        return 0.0"
   ]
  },
  {
   "cell_type": "code",
   "execution_count": 6,
   "id": "3b17eb87",
   "metadata": {},
   "outputs": [],
   "source": [
    "encoded_retrievals, mapping = encode_retrievals(retrievals, \"retrieved_websites\", \"retrieved_answers\", utility)"
   ]
  },
  {
   "cell_type": "code",
   "execution_count": 7,
   "id": "cea1fbe6",
   "metadata": {},
   "outputs": [
    {
     "name": "stdout",
     "output_type": "stream",
     "text": [
      "CPU times: user 768 ms, sys: 52.2 ms, total: 820 ms\n",
      "Wall time: 155 ms\n"
     ]
    }
   ],
   "source": [
    "v = learn_importance(encoded_retrievals, k=10, learning_rate=0.1, num_steps=50, n_jobs=-1)"
   ]
  },
  {
   "cell_type": "code",
   "execution_count": 8,
   "id": "50eb58d2",
   "metadata": {},
   "outputs": [
    {
     "data": {
      "text/plain": [
       "[('en.wikipedia.org', 0.5395976565120493),\n",
       " ('www.wikiwand.com', 0.5105751179498621),\n",
       " ('symbolhunt.com', 0.5090883204806622),\n",
       " ('www.investopedia.com', 0.5084299959016589),\n",
       " ('www.britannica.com', 0.5065204181256294)]"
      ]
     },
     "execution_count": 8,
     "metadata": {},
     "output_type": "execute_result"
    }
   ],
   "source": [
    "most_important(v, mapping, 5)"
   ]
  },
  {
   "cell_type": "code",
   "execution_count": 9,
   "id": "3c6cb581",
   "metadata": {},
   "outputs": [
    {
     "data": {
      "text/plain": [
       "[('www.xe.com', 0.47693177815031035),\n",
       " ('mcqtimes.com', 0.4885978469862543),\n",
       " ('mcqsclouds.com', 0.4894588965781804),\n",
       " ('www.toppr.com', 0.49429046630883966),\n",
       " ('www.quora.com', 0.4944925966514704)]"
      ]
     },
     "execution_count": 9,
     "metadata": {},
     "output_type": "execute_result"
    }
   ],
   "source": [
    "least_important(v, mapping, 5)"
   ]
  },
  {
   "cell_type": "code",
   "execution_count": null,
   "id": "e61e597b",
   "metadata": {},
   "outputs": [],
   "source": []
  }
 ],
 "metadata": {
  "kernelspec": {
   "display_name": "Python 3 (ipykernel)",
   "language": "python",
   "name": "python3"
  },
  "language_info": {
   "codemirror_mode": {
    "name": "ipython",
    "version": 3
   },
   "file_extension": ".py",
   "mimetype": "text/x-python",
   "name": "python",
   "nbconvert_exporter": "python",
   "pygments_lexer": "ipython3",
   "version": "3.9.16"
  }
 },
 "nbformat": 4,
 "nbformat_minor": 5
}