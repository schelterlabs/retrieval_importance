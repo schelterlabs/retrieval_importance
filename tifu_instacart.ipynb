{
 "cells": [
  {
   "cell_type": "code",
   "execution_count": 1,
   "id": "e98fbff8",
   "metadata": {},
   "outputs": [],
   "source": [
    "# TODO add to dev dependencies\n",
    "# !pip install pandas==1.5.3\n",
    "# !pip install scipy==1.10.1\n",
    "# !pip install scikit-learn==1.2.2\n",
    "# !pip install matplotlib"
   ]
  },
  {
   "cell_type": "code",
   "execution_count": 2,
   "id": "a11571c8",
   "metadata": {},
   "outputs": [],
   "source": [
    "import pandas as pd\n",
    "import numpy as np\n",
    "\n",
    "from retrieval_importance import learn_importance, encode_retrievals\n",
    "from applications.nbr.tifuknn import TIFUKNN"
   ]
  },
  {
   "cell_type": "code",
   "execution_count": 3,
   "id": "2c657b70",
   "metadata": {},
   "outputs": [],
   "source": [
    "def recall_at_n(y_true, y_pred, n):\n",
    "    a = len(set(y_pred[:n]).intersection(set(y_true)))\n",
    "    b = len(set(y_true))\n",
    "    return a/b"
   ]
  },
  {
   "cell_type": "code",
   "execution_count": 4,
   "id": "341b8461",
   "metadata": {},
   "outputs": [],
   "source": [
    "def utility(retrieval, prediction):    \n",
    "\n",
    "    predictions = [(item, weight) for item, weight in enumerate(prediction) if weight > 0.0]    \n",
    "    prediction_sorted = sorted(predictions, key=lambda pred: pred[1], reverse=True)\n",
    "    top_items = [pred[0] for pred in prediction_sorted]\n",
    "    \n",
    "    recall = recall_at_n(retrieval['next_basket'], top_items, 5)\n",
    "    \n",
    "    return np.around(recall, decimals=2) "
   ]
  },
  {
   "cell_type": "code",
   "execution_count": 5,
   "id": "226b6dd6",
   "metadata": {},
   "outputs": [],
   "source": [
    "def compare(tifu, tifu_clean, evaluation_baskets, num_eval_users, name):\n",
    "    predictions_per_user = tifu.predict()\n",
    "    predictions_per_user_clean = tifu_clean.predict()\n",
    "\n",
    "    scores = []\n",
    "    scores_clean = []\n",
    "\n",
    "    users_better = 0\n",
    "    users_worse = 0\n",
    "    \n",
    "    for user_index in range(0, num_eval_users):\n",
    "        user = tifu.user_keys[user_index]\n",
    "        next_basket_items = list(evaluation_baskets[evaluation_baskets.user_id==user].item_id)    \n",
    "\n",
    "        prediction = predictions_per_user[user]\n",
    "        prediction_clean = predictions_per_user_clean[user]\n",
    "        \n",
    "        score = recall_at_n(next_basket_items, prediction, 5)\n",
    "        score_clean = recall_at_n(next_basket_items, prediction_clean, 5)\n",
    "\n",
    "        if score_clean > score:\n",
    "            users_better += 1\n",
    "        elif score > score_clean:\n",
    "            users_worse +=1\n",
    "\n",
    "        scores.append(score)\n",
    "        scores_clean.append(score_clean)\n",
    "\n",
    "    print(f'{name}, users_worse={users_worse}, users_better={users_better}')    \n",
    "    print(f'{name}, recall@5_dirty={np.mean(scores)}, recall@5_clean={np.mean(scores_clean)}')"
   ]
  },
  {
   "cell_type": "code",
   "execution_count": 6,
   "id": "f0db7087",
   "metadata": {},
   "outputs": [],
   "source": [
    "def experiment(seed, num_users, num_eval_users, all_train_baskets, all_validation_baskets, all_test_baskets):\n",
    "    np.random.seed(seed)\n",
    "\n",
    "    unique_user_ids = list(all_train_baskets.user_id.unique())\n",
    "    sampled_users = np.random.choice(unique_user_ids, num_users)\n",
    "    train_baskets = all_train_baskets[all_train_baskets.user_id.isin(sampled_users)]\n",
    "    validation_baskets = all_validation_baskets[all_validation_baskets.user_id.isin(sampled_users)]\n",
    "    test_baskets = all_test_baskets[all_test_baskets.user_id.isin(sampled_users)] \n",
    "\n",
    "    tifu = TIFUKNN(train_baskets, distance_metric='cosine', k=10, kplus=40)\n",
    "    tifu.train()   \n",
    "\n",
    "    retrievals = []\n",
    "\n",
    "    for user_index in range(0, num_eval_users):\n",
    "\n",
    "        validation_user = tifu.user_keys[user_index]\n",
    "        next_basket_items = list(validation_baskets[validation_baskets.user_id==validation_user].item_id)\n",
    "        next_basket = [tifu.item_id_mapper[item] for item in next_basket_items if item in tifu.item_id_mapper]\n",
    "\n",
    "        neighbors = []\n",
    "        neighbor_representations = []\n",
    "\n",
    "        for neighbor_index in tifu.nn_indices[user_index]:\n",
    "            neighbors.append(tifu.user_keys[neighbor_index])\n",
    "            neighbor_representations.append(tifu.user_reps[neighbor_index])\n",
    "\n",
    "        if len(next_basket) > 0:    \n",
    "            retrievals.append({\n",
    "                'user': validation_user,\n",
    "                'next_basket': next_basket,\n",
    "                'neighbors': neighbors,\n",
    "                'neighbor_representations': neighbor_representations,\n",
    "            })    \n",
    "\n",
    "    encoded_retrievals, mapping = encode_retrievals(retrievals, \"neighbors\", \"neighbor_representations\", utility)   \n",
    "\n",
    "    v = learn_importance(encoded_retrievals, k=10, learning_rate=0.1, num_steps=500)\n",
    "\n",
    "    users_to_retain = set([tifu.user_keys[index] for (index, value) in enumerate(v) if value >= 0.5])\n",
    "    for user_index in range(0, num_eval_users):\n",
    "        users_to_retain.add(tifu.user_keys[user_index])\n",
    "\n",
    "    cleaned_train_baskets = train_baskets[train_baskets.user_id.isin(users_to_retain)]\n",
    "\n",
    "    print(f'-----SEED={seed}-----')\n",
    "    \n",
    "    print(f'datasize_dirty={len(train_baskets)}, datasize_clean={len(cleaned_train_baskets)}')\n",
    "    \n",
    "    tifu_clean = TIFUKNN(cleaned_train_baskets, distance_metric='cosine', k=10)\n",
    "    tifu_clean.train() \n",
    "    \n",
    "    compare(tifu, tifu_clean, validation_baskets, num_eval_users, 'validation')\n",
    "    compare(tifu, tifu_clean, test_baskets, num_eval_users, 'test')\n",
    "    "
   ]
  },
  {
   "cell_type": "code",
   "execution_count": 7,
   "id": "708e71dc",
   "metadata": {},
   "outputs": [],
   "source": [
    "all_train_baskets = pd.read_csv(\"applications/nbr/data/instacart_30k/train_baskets.csv.gz\")\n",
    "all_validation_baskets = pd.read_csv(\"applications/nbr/data/instacart_30k/valid_baskets.csv\")\n",
    "all_test_baskets = pd.read_csv(\"applications/nbr/data/instacart_30k/test_baskets.csv\") "
   ]
  },
  {
   "cell_type": "code",
   "execution_count": 8,
   "id": "05fa9c61",
   "metadata": {},
   "outputs": [
    {
     "name": "stdout",
     "output_type": "stream",
     "text": [
      "-----SEED=42-----\n",
      "datasize_dirty=157463, datasize_clean=88833\n",
      "validation, users_worse=2, users_better=5\n",
      "validation, recall@5_dirty=0.22881325718808893, recall@5_clean=0.23262278099761274\n",
      "test, users_worse=2, users_better=2\n",
      "test, recall@5_dirty=0.19534618540547083, recall@5_clean=0.19464698138368614\n",
      "-----SEED=16-----\n",
      "datasize_dirty=156897, datasize_clean=88453\n",
      "validation, users_worse=5, users_better=1\n",
      "validation, recall@5_dirty=0.22608281696343105, recall@5_clean=0.22392413656337135\n",
      "test, users_worse=3, users_better=3\n",
      "test, recall@5_dirty=0.20603470513012506, recall@5_clean=0.2047882404836604\n",
      "-----SEED=1812-----\n",
      "datasize_dirty=163196, datasize_clean=89226\n",
      "validation, users_worse=5, users_better=4\n",
      "validation, recall@5_dirty=0.19449518914579975, recall@5_clean=0.19591847653092923\n",
      "test, users_worse=4, users_better=4\n",
      "test, recall@5_dirty=0.18450692303365224, recall@5_clean=0.18564188121272807\n",
      "-----SEED=1312-----\n",
      "datasize_dirty=162644, datasize_clean=87998\n",
      "validation, users_worse=7, users_better=6\n",
      "validation, recall@5_dirty=0.2183249466430775, recall@5_clean=0.22046837704001424\n",
      "test, users_worse=6, users_better=3\n",
      "test, recall@5_dirty=0.20194990126023327, recall@5_clean=0.20058015112732527\n",
      "-----SEED=35-----\n",
      "datasize_dirty=162235, datasize_clean=84177\n",
      "validation, users_worse=5, users_better=2\n",
      "validation, recall@5_dirty=0.18845077448718178, recall@5_clean=0.18600571954212683\n",
      "test, users_worse=6, users_better=5\n",
      "test, recall@5_dirty=0.20390946874153917, recall@5_clean=0.20291282271470737\n"
     ]
    }
   ],
   "source": [
    "for seed in [42, 16, 1812, 1312, 35]:\n",
    "    experiment(seed, 1000, 100, all_train_baskets, all_validation_baskets, all_test_baskets)"
   ]
  },
  {
   "cell_type": "code",
   "execution_count": null,
   "id": "eb354312",
   "metadata": {},
   "outputs": [],
   "source": []
  }
 ],
 "metadata": {
  "kernelspec": {
   "display_name": "Python 3 (ipykernel)",
   "language": "python",
   "name": "python3"
  },
  "language_info": {
   "codemirror_mode": {
    "name": "ipython",
    "version": 3
   },
   "file_extension": ".py",
   "mimetype": "text/x-python",
   "name": "python",
   "nbconvert_exporter": "python",
   "pygments_lexer": "ipython3",
   "version": "3.9.16"
  }
 },
 "nbformat": 4,
 "nbformat_minor": 5
}
