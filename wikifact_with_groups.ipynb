{
 "cells": [
  {
   "cell_type": "code",
   "execution_count": null,
   "id": "2558f64e",
   "metadata": {},
   "outputs": [],
   "source": [
    "#!pip install tldextract"
   ]
  },
  {
   "cell_type": "code",
   "execution_count": 1,
   "id": "fa1c77b7",
   "metadata": {},
   "outputs": [],
   "source": [
    "import json\n",
    "import tldextract\n",
    "from pprint import pp\n",
    "from retrieval_importance import learn_importance, encode_retrievals, encode_groups, v_grouped, \\\n",
    "    most_important_groups, least_important_groups"
   ]
  },
  {
   "cell_type": "code",
   "execution_count": 2,
   "id": "bc35f7a4",
   "metadata": {},
   "outputs": [],
   "source": [
    "retrievals = []\n",
    "with open('test_data/wikifact_author.jsonl') as f:\n",
    "    for line in f:\n",
    "        retrievals.append(json.loads(line))"
   ]
  },
  {
   "cell_type": "code",
   "execution_count": 3,
   "id": "ce454681",
   "metadata": {},
   "outputs": [
    {
     "name": "stdout",
     "output_type": "stream",
     "text": [
      "{'question': 'The author of Nimmer on Copyright is',\n",
      " 'correct_answers': ['David Nimmer', 'David R. Nimmer', 'David Richard Nimmer', 'Melville Nimmer',\n",
      "                     'Melville Bernard Nimmer', 'Melville B. Nimmer', 'Melville Bernard Nimmer'],\n",
      " 'retrieved_websites': ['en.wikipedia.org', 'books.google.com', 'www.goodreads.com',\n",
      "                        'library.law.yale.edu', 'store.lexisnexis.com', 'www.copyright-protect.net',\n",
      "                        'books.google.com', 'www.top-law-schools.com',\n",
      "                        'scholarship.law.vanderbilt.edu', 'www.goodreads.com',\n",
      "                        'lawcat.berkeley.edu', 'openlibrary.org', 'wikimili.com',\n",
      "                        'lawcat.berkeley.edu', 'www.pbookshop.com', 'openlibrary.org',\n",
      "                        'www.wipo.int', 'www.worldcat.org', 'store.lexisnexis.com',\n",
      "                        'youbookinc.com', 'link.law.upenn.edu', 'www.copyright.gov',\n",
      "                        'www.worldcat.org', 'www.casemine.com', 'www.overdrive.com',\n",
      "                        'www.amazon.com', 'mtsu.edu', 'scholarship.law.vanderbilt.edu',\n",
      "                        'www.accessebookpages.com', 'www.nyulawreview.org', 'www.copyright.gov',\n",
      "                        'press.princeton.edu', 'www.wikizero.com', 'papers.ssrn.com',\n",
      "                        'www.wired.com', 'www.copyhype.com', 'en.wikipedia.org', 'pay.pbookshop.cn',\n",
      "                        'www.researchgate.net', 'www.encyclopedia.com', 'scholarship.law.duke.edu',\n",
      "                        'www.amazon.de', 'www.mondaq.com', 'www.amazon.in', 'book.douban.com',\n",
      "                        'www.tandfonline.com', 'www.casemine.com', 'educalingo.com'],\n",
      " 'retrieved_answers': ['Melville Nimmer', 'Hans Nimmer', 'Harold Nimmer', 'Harold N. Wohl',\n",
      "                       'David Nimmer', 'Harold Nimmer', 'Melville B. Nimmer',\n",
      "                       'Wrong !!Black-Blue wrote: Melville B. Nimmer, Nimmer on Copyright, §8D.06 '\n",
      "                       \"[A] [2] Even if the author's name is in the title, you still put the \"\n",
      "                       'author name in front of the title. Also, since Nimmer is organized by '\n",
      "                       \"section numbers, you don't cite page numbers, but the section number.\",\n",
      "                       'Hans A. Linde', 'Melville B. Nimmer', 'Melville B. Nimmer',\n",
      "                       'Melville B. Nimmer', 'Hans-Peter Linde', 'David Nimmer', 'David Nimmer',\n",
      "                       'Matthew Bender', 'Harold Nimmer', 'Melville B Nimmer', 'David Nimmer',\n",
      "                       'Matthew Bender', 'Melville B. Nimmer', 'David Nimmer',\n",
      "                       'Wrong !!Nimmer on copyright. [Melville B Nimmer; David Nimmer; Matthew '\n",
      "                       'Bender (Firm)] Home. WorldCat Home About WorldCat Help. Search. Search for '\n",
      "                       'Library Items Search for Lists Search for ... Chicago (Author-Date, 15th '\n",
      "                       'ed.) Harvard (18th ed.) MLA (7th ed.) Turabian (6th ed.) Export a '\n",
      "                       'citation.',\n",
      "                       'Harold Nimmer', 'Hans-Peter Nimmer', 'Lawrence Lessig', 'David Nimmer',\n",
      "                       'Rick Sanders', 'David Nimmer', 'Harold Nimmer', 'Peter Jaszi',\n",
      "                       'Lawrence Lessig', 'Lawrence Lessig', 'Melville Nimmer', 'Lawrence Lessig',\n",
      "                       'Fred von Lohmann', 'David Nimmer', 'Lawrence A.', 'F. Jay Dougherty',\n",
      "                       'Melville B. Nimmer', 'Fred von Lohmann', 'Lawrence Lessig', 'Hans Nimmer',\n",
      "                       'Hans-Peter Lindahl', 'Melville B. Nimmer', 'Melville Nimmer',\n",
      "                       'Wrong !!Our algorithms sense that you may get better results by trying out '\n",
      "                       'the same excerpt in our CaseIQ TM interface.',\n",
      "                       'Hans-Peter Dürr.']}\n"
     ]
    }
   ],
   "source": [
    "pp(retrievals[0], width=100, compact=True)"
   ]
  },
  {
   "cell_type": "code",
   "execution_count": 4,
   "id": "c9ee59d4",
   "metadata": {},
   "outputs": [],
   "source": [
    "def utility(retrieval, prediction):\n",
    "    if prediction in retrieval[\"correct_answers\"]:\n",
    "        return 1.0\n",
    "    else:\n",
    "        return 0.0"
   ]
  },
  {
   "cell_type": "code",
   "execution_count": 5,
   "id": "6f5e8261",
   "metadata": {},
   "outputs": [],
   "source": [
    "def group(retrieved):    \n",
    "    url_parts = tldextract.extract(retrieved)\n",
    "    return f'{url_parts.domain}.{url_parts.suffix}'"
   ]
  },
  {
   "cell_type": "code",
   "execution_count": 6,
   "id": "3b17eb87",
   "metadata": {},
   "outputs": [],
   "source": [
    "encoded_retrievals, mapping = encode_retrievals(retrievals, \"retrieved_websites\", \"retrieved_answers\", utility)\n",
    "grouping, group_mapping = encode_groups(mapping, group)"
   ]
  },
  {
   "cell_type": "code",
   "execution_count": 7,
   "id": "cea1fbe6",
   "metadata": {},
   "outputs": [
    {
     "name": "stdout",
     "output_type": "stream",
     "text": [
      "CPU times: user 779 ms, sys: 30.1 ms, total: 809 ms\n",
      "Wall time: 227 ms\n"
     ]
    }
   ],
   "source": [
    "%%time\n",
    "v = learn_importance(encoded_retrievals, k=10, learning_rate=0.1, num_steps=50, n_jobs=4, grouping=grouping)"
   ]
  },
  {
   "cell_type": "code",
   "execution_count": 8,
   "id": "69b2cee5",
   "metadata": {},
   "outputs": [],
   "source": [
    "v_per_group = v_grouped(v, grouping, group_mapping)"
   ]
  },
  {
   "cell_type": "code",
   "execution_count": 9,
   "id": "50eb58d2",
   "metadata": {},
   "outputs": [
    {
     "data": {
      "text/plain": [
       "[('wikiwand.com', 0.5508036219874283),\n",
       " ('goodreads.com', 0.5401960523473347),\n",
       " ('amazon.com', 0.5277891005927581),\n",
       " ('wikimili.com', 0.522149887005473),\n",
       " ('openlibrary.org', 0.5211981876261937)]"
      ]
     },
     "execution_count": 9,
     "metadata": {},
     "output_type": "execute_result"
    }
   ],
   "source": [
    "most_important_groups(v_per_group, 5)"
   ]
  },
  {
   "cell_type": "code",
   "execution_count": 10,
   "id": "3c6cb581",
   "metadata": {},
   "outputs": [
    {
     "data": {
      "text/plain": [
       "[('imdb.com', 0.4877848228428647),\n",
       " ('researchgate.net', 0.48954101212472395),\n",
       " ('litcharts.com', 0.4909785382466099),\n",
       " ('reddit.com', 0.4933304393088931),\n",
       " ('youbookinc.com', 0.4945495060356605)]"
      ]
     },
     "execution_count": 10,
     "metadata": {},
     "output_type": "execute_result"
    }
   ],
   "source": [
    "least_important_groups(v_per_group, 5)"
   ]
  },
  {
   "cell_type": "code",
   "execution_count": null,
   "id": "b0f82328",
   "metadata": {},
   "outputs": [],
   "source": []
  }
 ],
 "metadata": {
  "kernelspec": {
   "display_name": "Python 3 (ipykernel)",
   "language": "python",
   "name": "python3"
  },
  "language_info": {
   "codemirror_mode": {
    "name": "ipython",
    "version": 3
   },
   "file_extension": ".py",
   "mimetype": "text/x-python",
   "name": "python",
   "nbconvert_exporter": "python",
   "pygments_lexer": "ipython3",
   "version": "3.9.16"
  }
 },
 "nbformat": 4,
 "nbformat_minor": 5
}
