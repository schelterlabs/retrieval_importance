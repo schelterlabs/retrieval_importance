{
 "cells": [
  {
   "cell_type": "code",
   "execution_count": 1,
   "id": "f254fdff",
   "metadata": {},
   "outputs": [],
   "source": [
    "import pandas as pd\n",
    "from statistics import mode\n",
    "from tabulate import tabulate"
   ]
  },
  {
   "cell_type": "code",
   "execution_count": 30,
   "id": "cb620305",
   "metadata": {},
   "outputs": [],
   "source": [
    "def accuracy_on_testset(dataset, column, llm):\n",
    "    trainset = pd.read_csv(f'applications/imputation/data/{dataset}/train.csv')\n",
    "    testset = pd.read_csv(f'applications/imputation/data/{dataset}/test.csv')\n",
    "\n",
    "    observed_labels = [label.lower() for label in trainset[column].unique()]\n",
    "    \n",
    "    with open(f'applications/imputation/answers/{dataset}_{llm}_zeroshot/__result__{dataset}_test_zeroshot.txt', 'r') as f:\n",
    "        test_answers = [line.split(',') for line in f.read().splitlines()]    \n",
    "\n",
    "    num_correct = 0\n",
    "    i = 0\n",
    "    for _, row in testset.iterrows():\n",
    "\n",
    "        extracted_answer = test_answers[i][0]\n",
    "        extracted_answer = extracted_answer.strip()\n",
    "        extracted_answer = extracted_answer.split(\"  \")[0]\n",
    "\n",
    "        by_colon = extracted_answer = extracted_answer.split(\":\", 1)\n",
    "\n",
    "        if len(by_colon) > 1:\n",
    "            extracted_answer = by_colon[1]\n",
    "        else:    \n",
    "            extracted_answer = by_colon[0]  \n",
    "\n",
    "        prediction = extracted_answer.strip()\n",
    "\n",
    "        for observed_label in observed_labels:\n",
    "            # use training label if predicted label is a substring            \n",
    "            if prediction in observed_label:\n",
    "                prediction = observed_label\n",
    "                break                \n",
    "        \n",
    "        \n",
    "        #print(row[column], prediction)\n",
    "\n",
    "        if row[column] == prediction:\n",
    "            num_correct += 1\n",
    "\n",
    "        i += 1\n",
    "\n",
    "\n",
    "    return num_correct / i    "
   ]
  },
  {
   "cell_type": "code",
   "execution_count": 31,
   "id": "d5da4583",
   "metadata": {},
   "outputs": [
    {
     "data": {
      "text/plain": [
       "0.03488372093023256"
      ]
     },
     "execution_count": 31,
     "metadata": {},
     "output_type": "execute_result"
    }
   ],
   "source": [
    "accuracy_on_testset('restaurant', 'city', 'gptjt6b')"
   ]
  },
  {
   "cell_type": "code",
   "execution_count": 32,
   "id": "df0e5472",
   "metadata": {},
   "outputs": [
    {
     "data": {
      "text/plain": [
       "0.13846153846153847"
      ]
     },
     "execution_count": 32,
     "metadata": {},
     "output_type": "execute_result"
    }
   ],
   "source": [
    "accuracy_on_testset('buy', 'manufacturer', 'gptjt6b')"
   ]
  },
  {
   "cell_type": "code",
   "execution_count": null,
   "id": "b0a2ebaa",
   "metadata": {},
   "outputs": [],
   "source": []
  }
 ],
 "metadata": {
  "kernelspec": {
   "display_name": "Python 3 (ipykernel)",
   "language": "python",
   "name": "python3"
  },
  "language_info": {
   "codemirror_mode": {
    "name": "ipython",
    "version": 3
   },
   "file_extension": ".py",
   "mimetype": "text/x-python",
   "name": "python",
   "nbconvert_exporter": "python",
   "pygments_lexer": "ipython3",
   "version": "3.9.16"
  }
 },
 "nbformat": 4,
 "nbformat_minor": 5
}
