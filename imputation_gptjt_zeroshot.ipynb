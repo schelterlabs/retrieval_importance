{
 "cells": [
  {
   "cell_type": "code",
   "execution_count": 32,
   "id": "f254fdff",
   "metadata": {},
   "outputs": [],
   "source": [
    "import pandas as pd\n",
    "from statistics import mode\n",
    "from tabulate import tabulate"
   ]
  },
  {
   "cell_type": "code",
   "execution_count": 33,
   "id": "cb620305",
   "metadata": {},
   "outputs": [],
   "source": [
    "def accuracy_on_testset(dataset, column, llm):\n",
    "    trainset = pd.read_csv(f'applications/imputation/data/{dataset}/train.csv')[column].values.tolist()\n",
    "    testset = pd.read_csv(f'applications/imputation/data/{dataset}/test.csv')[column].values.tolist()\n",
    "    validset = pd.read_csv(f'applications/imputation/data/{dataset}/valid.csv')[column].values.tolist()\n",
    "    \n",
    "    with open(f'applications/imputation/answers/{dataset}_{llm}_zeroshot/__result__{dataset}_test_zeroshot.txt', 'r') as f:\n",
    "        test_answers = [line.split(',') for line in f.read().splitlines()]    \n",
    "    with open(f'applications/imputation/answers/{dataset}_{llm}_zeroshot/__result__{dataset}_train_zeroshot.txt', 'r') as f:\n",
    "        train_answers = [line.split(',') for line in f.read().splitlines()]  \n",
    "    with open(f'applications/imputation/answers/{dataset}_{llm}_zeroshot/__result__{dataset}_valid_zeroshot.txt', 'r') as f:\n",
    "        valid_answers = [line.split(',') for line in f.read().splitlines()]  \n",
    "    \n",
    "#     questions = [validset, testset, trainset]\n",
    "#     questions = pd.concat(questions)\n",
    "#     print(questions)\n",
    "    questions = []\n",
    "    questions.extend(validset)\n",
    "    questions.extend(testset)\n",
    "    questions.extend(trainset)\n",
    "    \n",
    "    answers = []\n",
    "    answers.extend(valid_answers)\n",
    "    answers.extend(test_answers)\n",
    "    answers.extend(train_answers)\n",
    "        \n",
    "    result = []\n",
    "    for random_seed in [441, 1, 469, 53, 280, 123, 219, 181, 5, 9, 199, 156, 93, 313, 28, 56, 359, 108, 8, 58, 407, 451, 322, 266, 268, 297, 12, 182, 320, 474, 296, 142, 64, 201, 32, 392, 98, 242, 344, 438, 427, 35, 77, 394, 39, 55, 330, 38, 67, 358, 237, 149, 405, 420, 411, 57, 488, 49, 42, 155, 109, 73, 331, 128]:\n",
    "        import random\n",
    "        id_list = [i for i in range(len(questions))]\n",
    "        random.seed(random_seed)\n",
    "        random.shuffle(id_list)\n",
    "        val_set = id_list[len(questions)//2:]\n",
    "        test_set = id_list[:len(questions)//2]\n",
    "        \n",
    "        testset = [questions[i] for i in test_set]\n",
    "        test_answers = [answers[i] for i in test_set]\n",
    "        \n",
    "\n",
    "        num_correct = 0\n",
    "        i = 0\n",
    "        for row in testset:\n",
    "\n",
    "            extracted_answer = test_answers[i][0]\n",
    "            extracted_answer = extracted_answer.strip()\n",
    "            extracted_answer = extracted_answer.split(\"  \")[0]\n",
    "\n",
    "            by_colon = extracted_answer = extracted_answer.split(\":\", 1)\n",
    "\n",
    "            if len(by_colon) > 1:\n",
    "                extracted_answer = by_colon[1]\n",
    "            else:    \n",
    "                extracted_answer = by_colon[0]  \n",
    "\n",
    "            prediction = extracted_answer.strip()\n",
    "\n",
    "            if row == prediction:\n",
    "                num_correct += 1\n",
    "\n",
    "            i += 1\n",
    "        \n",
    "        result.append(num_correct / i)\n",
    "\n",
    "    print(result)\n",
    "    return sum(result)/len(result)"
   ]
  },
  {
   "cell_type": "code",
   "execution_count": 34,
   "id": "d5da4583",
   "metadata": {},
   "outputs": [
    {
     "name": "stdout",
     "output_type": "stream",
     "text": [
      "[0.032407407407407406, 0.04398148148148148, 0.018518518518518517, 0.034722222222222224, 0.023148148148148147, 0.02546296296296296, 0.02546296296296296, 0.02546296296296296, 0.020833333333333332, 0.03009259259259259, 0.03009259259259259, 0.02546296296296296, 0.027777777777777776, 0.03009259259259259, 0.03009259259259259, 0.023148148148148147, 0.03935185185185185, 0.023148148148148147, 0.03935185185185185, 0.018518518518518517, 0.032407407407407406, 0.03009259259259259, 0.032407407407407406, 0.02546296296296296, 0.034722222222222224, 0.032407407407407406, 0.037037037037037035, 0.02546296296296296, 0.027777777777777776, 0.03009259259259259, 0.041666666666666664, 0.032407407407407406, 0.02546296296296296, 0.027777777777777776, 0.034722222222222224, 0.032407407407407406, 0.023148148148148147, 0.037037037037037035, 0.032407407407407406, 0.027777777777777776, 0.034722222222222224, 0.027777777777777776, 0.032407407407407406, 0.03009259259259259, 0.02546296296296296, 0.02546296296296296, 0.046296296296296294, 0.023148148148148147, 0.03935185185185185, 0.03009259259259259, 0.032407407407407406, 0.02546296296296296, 0.04398148148148148, 0.03009259259259259, 0.032407407407407406, 0.023148148148148147, 0.03009259259259259, 0.023148148148148147, 0.037037037037037035, 0.041666666666666664, 0.023148148148148147, 0.032407407407407406, 0.03009259259259259, 0.027777777777777776]\n"
     ]
    },
    {
     "data": {
      "text/plain": [
       "0.030273437499999997"
      ]
     },
     "execution_count": 34,
     "metadata": {},
     "output_type": "execute_result"
    }
   ],
   "source": [
    "accuracy_on_testset('restaurant', 'city', 'gptjt6b')"
   ]
  },
  {
   "cell_type": "code",
   "execution_count": 35,
   "id": "df0e5472",
   "metadata": {},
   "outputs": [
    {
     "name": "stdout",
     "output_type": "stream",
     "text": [
      "[0.10153846153846154, 0.09538461538461539, 0.11076923076923077, 0.10153846153846154, 0.12, 0.08615384615384615, 0.09846153846153846, 0.08615384615384615, 0.09846153846153846, 0.10461538461538461, 0.11692307692307692, 0.11384615384615385, 0.12615384615384614, 0.1076923076923077, 0.10153846153846154, 0.10461538461538461, 0.09538461538461539, 0.09230769230769231, 0.10153846153846154, 0.11076923076923077, 0.08923076923076922, 0.08923076923076922, 0.10153846153846154, 0.10153846153846154, 0.07076923076923076, 0.09538461538461539, 0.12, 0.11384615384615385, 0.08923076923076922, 0.10153846153846154, 0.09846153846153846, 0.09538461538461539, 0.08307692307692308, 0.08923076923076922, 0.09538461538461539, 0.10461538461538461, 0.11384615384615385, 0.1076923076923077, 0.10153846153846154, 0.09538461538461539, 0.10153846153846154, 0.1076923076923077, 0.09230769230769231, 0.09846153846153846, 0.10461538461538461, 0.12, 0.1076923076923077, 0.10461538461538461, 0.12, 0.1076923076923077, 0.1076923076923077, 0.08923076923076922, 0.10461538461538461, 0.10153846153846154, 0.11384615384615385, 0.1076923076923077, 0.1076923076923077, 0.08615384615384615, 0.11384615384615385, 0.11692307692307692, 0.09230769230769231, 0.09230769230769231, 0.09230769230769231, 0.09538461538461539]\n"
     ]
    },
    {
     "data": {
      "text/plain": [
       "0.10182692307692304"
      ]
     },
     "execution_count": 35,
     "metadata": {},
     "output_type": "execute_result"
    }
   ],
   "source": [
    "accuracy_on_testset('buy', 'manufacturer', 'gptjt6b')"
   ]
  },
  {
   "cell_type": "code",
   "execution_count": null,
   "id": "b0a2ebaa",
   "metadata": {},
   "outputs": [],
   "source": []
  }
 ],
 "metadata": {
  "kernelspec": {
   "display_name": "Python 3 (ipykernel)",
   "language": "python",
   "name": "python3"
  },
  "language_info": {
   "codemirror_mode": {
    "name": "ipython",
    "version": 3
   },
   "file_extension": ".py",
   "mimetype": "text/x-python",
   "name": "python",
   "nbconvert_exporter": "python",
   "pygments_lexer": "ipython3",
   "version": "3.9.9"
  }
 },
 "nbformat": 4,
 "nbformat_minor": 5
}
