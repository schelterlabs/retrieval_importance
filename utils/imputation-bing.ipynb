{
 "cells": [
  {
   "cell_type": "code",
   "execution_count": 64,
   "id": "26e97f87",
   "metadata": {},
   "outputs": [
    {
     "name": "stdout",
     "output_type": "stream",
     "text": [
      "Collecting tqdm\n",
      "  Downloading tqdm-4.65.0-py3-none-any.whl (77 kB)\n",
      "\u001b[2K     \u001b[38;2;114;156;31m━━━━━━━━━━━━━━━━━━━━━━━━━━━━━━━━━━━━━━━━\u001b[0m \u001b[32m77.1/77.1 kB\u001b[0m \u001b[31m1.4 MB/s\u001b[0m eta \u001b[36m0:00:00\u001b[0m MB/s\u001b[0m eta \u001b[36m0:00:01\u001b[0m\n",
      "\u001b[?25hInstalling collected packages: tqdm\n",
      "Successfully installed tqdm-4.65.0\n"
     ]
    }
   ],
   "source": [
    "!pip install tqdm"
   ]
  },
  {
   "cell_type": "code",
   "execution_count": 89,
   "id": "8fdc7e9a",
   "metadata": {},
   "outputs": [],
   "source": [
    "import requests\n",
    "import json\n",
    "from tqdm import tqdm\n",
    "\n",
    "bing_subscription_key = 'SECRET'"
   ]
  },
  {
   "cell_type": "code",
   "execution_count": 68,
   "id": "ff544b0c",
   "metadata": {},
   "outputs": [],
   "source": [
    "def bing_web_search(subscription_key, query):\n",
    "\n",
    "    search_url = \"https://api.bing.microsoft.com/v7.0/search\"\n",
    "    headers = {\"Ocp-Apim-Subscription-Key\": subscription_key}\n",
    "    params = {\n",
    "        \"q\": query,\n",
    "        'answerCount': 50,\n",
    "        'count': 50,\n",
    "        'mkt': 'en-US',\n",
    "        'responseFilter': 'Webpages',\n",
    "    }\n",
    "    \n",
    "    response = requests.get(search_url, headers=headers, params=params)\n",
    "    response.raise_for_status()\n",
    "    \n",
    "    return response.json()"
   ]
  },
  {
   "cell_type": "code",
   "execution_count": 86,
   "id": "51d56cdd",
   "metadata": {},
   "outputs": [
    {
     "data": {
      "text/html": [
       "<div>\n",
       "<style scoped>\n",
       "    .dataframe tbody tr th:only-of-type {\n",
       "        vertical-align: middle;\n",
       "    }\n",
       "\n",
       "    .dataframe tbody tr th {\n",
       "        vertical-align: top;\n",
       "    }\n",
       "\n",
       "    .dataframe thead th {\n",
       "        text-align: right;\n",
       "    }\n",
       "</style>\n",
       "<table border=\"1\" class=\"dataframe\">\n",
       "  <thead>\n",
       "    <tr style=\"text-align: right;\">\n",
       "      <th></th>\n",
       "      <th>name</th>\n",
       "      <th>description</th>\n",
       "      <th>manufacturer</th>\n",
       "    </tr>\n",
       "  </thead>\n",
       "  <tbody>\n",
       "    <tr>\n",
       "      <th>0</th>\n",
       "      <td>Sony DPFV900 Digital Photo Frame - DPF-V900</td>\n",
       "      <td>Photo Viewer - 9' LCD</td>\n",
       "      <td>Sony</td>\n",
       "    </tr>\n",
       "    <tr>\n",
       "      <th>1</th>\n",
       "      <td>Nikon Coolpix S550 Digital Camera - Graphite B...</td>\n",
       "      <td>10 Megapixel - 16:9 - 4x Digital Zoom - 2.5' A...</td>\n",
       "      <td>Nikon</td>\n",
       "    </tr>\n",
       "    <tr>\n",
       "      <th>2</th>\n",
       "      <td>LG LG70 Series 52LG70 52' LCD TV</td>\n",
       "      <td>LG 52LG70 - 52' Widescreen 1080p LCD HDTV - 12...</td>\n",
       "      <td>LG Electronics</td>\n",
       "    </tr>\n",
       "    <tr>\n",
       "      <th>3</th>\n",
       "      <td>Panasonic DMR-EA18K DVD Player/Recorder</td>\n",
       "      <td>DVD+RW, DVD-RW, DVD-RAM, DVD-R, DVD+R, CD-RW, ...</td>\n",
       "      <td>Panasonic</td>\n",
       "    </tr>\n",
       "    <tr>\n",
       "      <th>4</th>\n",
       "      <td>Logitech Digital Precision PC Gaming Headset -...</td>\n",
       "      <td>Logitech Digital Precision PC Headset</td>\n",
       "      <td>Logitech</td>\n",
       "    </tr>\n",
       "    <tr>\n",
       "      <th>...</th>\n",
       "      <td>...</td>\n",
       "      <td>...</td>\n",
       "      <td>...</td>\n",
       "    </tr>\n",
       "    <tr>\n",
       "      <th>112</th>\n",
       "      <td>Panasonic KX-TS3282W Corded Telephone</td>\n",
       "      <td>2 x Phone Line(s) - Headset - White</td>\n",
       "      <td>Panasonic</td>\n",
       "    </tr>\n",
       "    <tr>\n",
       "      <th>113</th>\n",
       "      <td>Onkyo TX-SR706 A/V Receiver - TXSR706B</td>\n",
       "      <td>Dolby Digital Plus, Dolby TrueHD, DTS-HD, THX ...</td>\n",
       "      <td>Onkyo</td>\n",
       "    </tr>\n",
       "    <tr>\n",
       "      <th>114</th>\n",
       "      <td>Garmin USB Cable - 010-10723-01</td>\n",
       "      <td>1 x Type A USB</td>\n",
       "      <td>Garmin</td>\n",
       "    </tr>\n",
       "    <tr>\n",
       "      <th>115</th>\n",
       "      <td>Sony Cyber-shot DSC-W120 Digital Camera - Silv...</td>\n",
       "      <td>16:9 - 2x Digital Zoom - 2.5' Active Matrix TF...</td>\n",
       "      <td>Sony</td>\n",
       "    </tr>\n",
       "    <tr>\n",
       "      <th>116</th>\n",
       "      <td>Samsung 6 Series LN32A650 32' LCD TV</td>\n",
       "      <td>Samsung LN32A650 - 32' 1080p LCD HDTV - 50,000...</td>\n",
       "      <td>Samsung</td>\n",
       "    </tr>\n",
       "  </tbody>\n",
       "</table>\n",
       "<p>117 rows × 3 columns</p>\n",
       "</div>"
      ],
      "text/plain": [
       "                                                  name  \\\n",
       "0          Sony DPFV900 Digital Photo Frame - DPF-V900   \n",
       "1    Nikon Coolpix S550 Digital Camera - Graphite B...   \n",
       "2                     LG LG70 Series 52LG70 52' LCD TV   \n",
       "3              Panasonic DMR-EA18K DVD Player/Recorder   \n",
       "4    Logitech Digital Precision PC Gaming Headset -...   \n",
       "..                                                 ...   \n",
       "112              Panasonic KX-TS3282W Corded Telephone   \n",
       "113             Onkyo TX-SR706 A/V Receiver - TXSR706B   \n",
       "114                    Garmin USB Cable - 010-10723-01   \n",
       "115  Sony Cyber-shot DSC-W120 Digital Camera - Silv...   \n",
       "116               Samsung 6 Series LN32A650 32' LCD TV   \n",
       "\n",
       "                                           description    manufacturer  \n",
       "0                                Photo Viewer - 9' LCD            Sony  \n",
       "1    10 Megapixel - 16:9 - 4x Digital Zoom - 2.5' A...           Nikon  \n",
       "2    LG 52LG70 - 52' Widescreen 1080p LCD HDTV - 12...  LG Electronics  \n",
       "3    DVD+RW, DVD-RW, DVD-RAM, DVD-R, DVD+R, CD-RW, ...       Panasonic  \n",
       "4                Logitech Digital Precision PC Headset        Logitech  \n",
       "..                                                 ...             ...  \n",
       "112                2 x Phone Line(s) - Headset - White       Panasonic  \n",
       "113  Dolby Digital Plus, Dolby TrueHD, DTS-HD, THX ...           Onkyo  \n",
       "114                                     1 x Type A USB          Garmin  \n",
       "115  16:9 - 2x Digital Zoom - 2.5' Active Matrix TF...            Sony  \n",
       "116  Samsung LN32A650 - 32' 1080p LCD HDTV - 50,000...         Samsung  \n",
       "\n",
       "[117 rows x 3 columns]"
      ]
     },
     "execution_count": 86,
     "metadata": {},
     "output_type": "execute_result"
    }
   ],
   "source": [
    "import pandas as pd\n",
    "import time\n",
    "\n",
    "sample_file = 'applications/imputation/data/buy/valid.csv'\n",
    "out_path = 'applications/imputation/bing/buy/valid.jsonl'\n",
    "target_column = 'manufacturer'\n",
    "\n",
    "df = pd.read_csv(sample_file)\n",
    "df"
   ]
  },
  {
   "cell_type": "code",
   "execution_count": 87,
   "id": "43016838",
   "metadata": {},
   "outputs": [
    {
     "name": "stderr",
     "output_type": "stream",
     "text": [
      "100%|███████████████████████████████████████████████████████████████████████████████| 117/117 [01:10<00:00,  1.66it/s]\n"
     ]
    }
   ],
   "source": [
    "columns = [column for column in df.columns if column != target_column]\n",
    "\n",
    "json_responses = []\n",
    "\n",
    "for sample_id in tqdm(range(len(df))):\n",
    "\n",
    "    sample = df.iloc[sample_id]\n",
    "    query = ', '.join([str(sample[column]) for column in columns])\n",
    "    json_response = bing_web_search(bing_subscription_key, query)\n",
    "    \n",
    "    json_responses.append(json.dumps(json_response)) "
   ]
  },
  {
   "cell_type": "code",
   "execution_count": 88,
   "id": "3e2fbeca",
   "metadata": {},
   "outputs": [],
   "source": [
    "with open(out_path, 'w') as outfile:\n",
    "    for response in json_responses:\n",
    "        outfile.write(response + '\\n')\n",
    "    "
   ]
  },
  {
   "cell_type": "markdown",
   "id": "6e170af7",
   "metadata": {},
   "source": [
    "Here is some text about a restaurant:\n",
    "\n",
    "San Francisco 94108 415-392-3505 French Bistro Caf ... Campton Place 340 Stockton St. San Francisco 94108 415/955-5555 American ##### Chez Michel 804 North Point St. San Francisco 94109 415-775-7036 Californian Chez Michel 804 Northpoint San Francisco 94109 415/775-7036 French ##### Fleur de Lys 777 Sutter St. San Francisco 94109 415 ...\n",
    "\n",
    "The name of the city where this restaurant is located is San Francisco."
   ]
  },
  {
   "cell_type": "code",
   "execution_count": null,
   "id": "382eca57",
   "metadata": {},
   "outputs": [],
   "source": []
  }
 ],
 "metadata": {
  "kernelspec": {
   "display_name": "Python 3 (ipykernel)",
   "language": "python",
   "name": "python3"
  },
  "language_info": {
   "codemirror_mode": {
    "name": "ipython",
    "version": 3
   },
   "file_extension": ".py",
   "mimetype": "text/x-python",
   "name": "python",
   "nbconvert_exporter": "python",
   "pygments_lexer": "ipython3",
   "version": "3.9.16"
  }
 },
 "nbformat": 4,
 "nbformat_minor": 5
}
