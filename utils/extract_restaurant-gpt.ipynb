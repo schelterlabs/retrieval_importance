{
 "cells": [
  {
   "cell_type": "code",
   "execution_count": 1,
   "id": "e9d76628",
   "metadata": {},
   "outputs": [],
   "source": [
    "import json"
   ]
  },
  {
   "cell_type": "code",
   "execution_count": 2,
   "id": "5aff1687",
   "metadata": {},
   "outputs": [],
   "source": [
    "from tqdm import tqdm"
   ]
  },
  {
   "cell_type": "code",
   "execution_count": 3,
   "id": "bb37105e",
   "metadata": {},
   "outputs": [],
   "source": [
    "bing_results = []\n",
    "with open('../retrieval_importance/applications/imputation/bing/restaurant/test.jsonl', 'r') as bing_results_file:\n",
    "    while (line := bing_results_file.readline()):\n",
    "        bing_results.append(json.loads(line))"
   ]
  },
  {
   "cell_type": "code",
   "execution_count": 4,
   "id": "b70a65d7",
   "metadata": {},
   "outputs": [],
   "source": [
    "gpt_answers = []\n",
    "with open('../retrieval_importance/applications/imputation/answers/restaurant_gptjt6b/__result__restaurant_test.txt', 'r') as gpt_file:\n",
    "    while (line := gpt_file.readline()):    \n",
    "        gpt_answers.append(line)\n",
    "    "
   ]
  },
  {
   "cell_type": "code",
   "execution_count": 5,
   "id": "7c9625a8",
   "metadata": {},
   "outputs": [],
   "source": [
    "cleaned_answers = []\n",
    "\n",
    "for answer in gpt_answers:\n",
    "    cleaned_answer = answer\n",
    "    cleaned_answer = cleaned_answer.strip()\n",
    "    cleaned_answer = cleaned_answer.split('.')[0]\n",
    "    cleaned_answer = cleaned_answer.split(',')[0]\n",
    "    cleaned_answer = cleaned_answer.replace('\"', '')\n",
    "    cleaned_answer = cleaned_answer.lower()\n",
    "    \n",
    "    if len(cleaned_answer)> 0 and cleaned_answer[0] == \":\":\n",
    "        cleaned_answer = cleaned_answer[1:]\n",
    "        cleaned_answer = cleaned_answer.strip()\n",
    "    \n",
    "    #print(cleaned_answer, f'[{answer.strip()}]')\n",
    "    cleaned_answers.append(cleaned_answer)"
   ]
  },
  {
   "cell_type": "code",
   "execution_count": 6,
   "id": "71fe1fc4",
   "metadata": {},
   "outputs": [
    {
     "name": "stderr",
     "output_type": "stream",
     "text": [
      "100%|██████████████████████████████████████████████████████████████████████████████████████████████████████████████████████| 86/86 [00:00<00:00, 10552.02it/s]\n"
     ]
    }
   ],
   "source": [
    "answers = []\n",
    "\n",
    "gpt_answer_index = 0\n",
    "\n",
    "for sample_index in tqdm(range(len(bing_results))):\n",
    "    pages = bing_results[sample_index]['webPages']['value']\n",
    "\n",
    "    for position, page in enumerate(pages):\n",
    "\n",
    "        answer = cleaned_answers[gpt_answer_index]\n",
    "\n",
    "        answers.append((sample_index, position, answer, page['url']))\n",
    "        gpt_answer_index += 1\n",
    "    \n"
   ]
  },
  {
   "cell_type": "code",
   "execution_count": 7,
   "id": "fd6ea4a7",
   "metadata": {},
   "outputs": [],
   "source": [
    "import pandas as pd\n",
    "test_answers = pd.DataFrame.from_records(answers, columns=['sample_index', 'position', 'answer', 'url'])\n",
    "\n",
    "test_answers.to_csv('../retrieval_importance/applications/imputation/answers/restaurant_gptjt6b/test.csv', index=False)\n"
   ]
  },
  {
   "cell_type": "code",
   "execution_count": null,
   "id": "36a9d1c9",
   "metadata": {},
   "outputs": [],
   "source": []
  }
 ],
 "metadata": {
  "kernelspec": {
   "display_name": "Python 3 (ipykernel)",
   "language": "python",
   "name": "python3"
  },
  "language_info": {
   "codemirror_mode": {
    "name": "ipython",
    "version": 3
   },
   "file_extension": ".py",
   "mimetype": "text/x-python",
   "name": "python",
   "nbconvert_exporter": "python",
   "pygments_lexer": "ipython3",
   "version": "3.9.16"
  }
 },
 "nbformat": 4,
 "nbformat_minor": 5
}
