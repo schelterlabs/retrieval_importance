{
 "cells": [
  {
   "cell_type": "code",
   "execution_count": 19,
   "id": "6f4ec5f3",
   "metadata": {},
   "outputs": [],
   "source": [
    "retrievals = [\n",
    "    {\n",
    "        \"question\": \"Which DB researcher won the turing award?\",\n",
    "        \"correct_answers\": [\"Mike Stonebraker\", \"M. Stonebraker\", \"Jim Gray\"],\n",
    "        \"retrieved_websites\": [\"wikipedia.org\", \"bing.com\", \"fakepedia.org\", \"google.com\", \"duckduckgo.com\"],\n",
    "        \"generated_answers\": [\"Mike Stonebraker\", \"Jim Gray\", \"S. Schelter\", \"Jim Gray\", \"M. Stonebraker\"]\n",
    "    },\n",
    "]"
   ]
  },
  {
   "cell_type": "code",
   "execution_count": 20,
   "id": "bec9deb7",
   "metadata": {},
   "outputs": [],
   "source": [
    "def utility(retrieval, prediction):\n",
    "    if prediction in retrieval[\"correct_answers\"]:\n",
    "        return 1.0\n",
    "    else:\n",
    "        return 0.0"
   ]
  },
  {
   "cell_type": "code",
   "execution_count": 21,
   "id": "23fcb364",
   "metadata": {},
   "outputs": [],
   "source": [
    "from retrieval_importance import learn_importance\n",
    "from retrieval_importance_utils.utils import encode_retrievals\n",
    "\n",
    "encoded_retrievals, mapping = encode_retrievals(retrievals, \"retrieved_websites\", \"generated_answers\", utility)\n",
    "\n",
    "v = learn_importance(encoded_retrievals, k=2, learning_rate=0.1, num_steps=10, n_jobs=1)"
   ]
  },
  {
   "cell_type": "code",
   "execution_count": 22,
   "id": "3d6c0dfe",
   "metadata": {},
   "outputs": [
    {
     "name": "stdout",
     "output_type": "stream",
     "text": [
      "bing.com 0.750762402294315\n",
      "duckduckgo.com 0.61794516937855\n",
      "fakepedia.org 0.29234841354718805\n",
      "google.com 0.61794516937855\n",
      "wikipedia.org 0.750762402294315\n"
     ]
    }
   ],
   "source": [
    "for name, index in mapping.items():\n",
    "    print(name, v[index])"
   ]
  },
  {
   "cell_type": "code",
   "execution_count": null,
   "id": "60c366a6",
   "metadata": {},
   "outputs": [],
   "source": []
  }
 ],
 "metadata": {
  "kernelspec": {
   "display_name": "Python 3 (ipykernel)",
   "language": "python",
   "name": "python3"
  },
  "language_info": {
   "codemirror_mode": {
    "name": "ipython",
    "version": 3
   },
   "file_extension": ".py",
   "mimetype": "text/x-python",
   "name": "python",
   "nbconvert_exporter": "python",
   "pygments_lexer": "ipython3",
   "version": "3.9.16"
  }
 },
 "nbformat": 4,
 "nbformat_minor": 5
}
