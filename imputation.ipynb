{
 "cells": [
  {
   "cell_type": "code",
   "execution_count": 26,
   "id": "21c00900",
   "metadata": {},
   "outputs": [],
   "source": [
    "import pandas as pd\n",
    "\n",
    "def evaluate(dataset, target, model, k, debug=False):\n",
    "    trainset = pd.read_csv(f\"applications/imputation/data/{dataset}/train.csv\")\n",
    "    testset = pd.read_csv(f\"applications/imputation/data/{dataset}/test.csv\")\n",
    "    answers = pd.read_csv(f\"applications/imputation/answers/{dataset}_{model}/test.csv\")\n",
    "\n",
    "\n",
    "    observed_labels = [label.lower() for label in trainset[target].unique()]\n",
    "    correct_answers = list(testset[target])\n",
    "\n",
    "    correct_predictions = 0\n",
    "\n",
    "    for sample_index, correct_answer in enumerate(correct_answers):\n",
    "\n",
    "        prediction = answers[answers.sample_index==sample_index]\\\n",
    "            .sort_values(by=['position'])\\\n",
    "            .head(k)\\\n",
    "            .answer\\\n",
    "            .mode()[0]\n",
    "\n",
    "        final_prediction = prediction.lower()\n",
    "        correct_answers = set([correct_answer.lower()])\n",
    "\n",
    "        # use training label if predicted label is a substring\n",
    "        for observed_label in observed_labels:\n",
    "            if final_prediction in observed_label:\n",
    "                final_prediction = observed_label\n",
    "                break\n",
    "\n",
    "        if final_prediction in correct_answers:\n",
    "            correct_predictions += 1\n",
    "        else:\n",
    "            if debug:\n",
    "                print('Misprediction', prediction.lower(), correct_answers)\n",
    "            pass\n",
    "\n",
    "    print(f\"Accuracy on {dataset}: {correct_predictions / len(testset)}\")    "
   ]
  },
  {
   "cell_type": "code",
   "execution_count": 27,
   "id": "a041bd05",
   "metadata": {},
   "outputs": [
    {
     "name": "stdout",
     "output_type": "stream",
     "text": [
      "Accuracy on buy: 0.8461538461538461\n"
     ]
    }
   ],
   "source": [
    "evaluate(dataset='buy', target='manufacturer', model='minilm', k=10)"
   ]
  },
  {
   "cell_type": "code",
   "execution_count": 28,
   "id": "173cf3d1",
   "metadata": {},
   "outputs": [
    {
     "name": "stdout",
     "output_type": "stream",
     "text": [
      "Accuracy on restaurant: 0.7906976744186046\n"
     ]
    }
   ],
   "source": [
    "evaluate(dataset='restaurant', target='city', model='minilm', k=10)"
   ]
  },
  {
   "cell_type": "code",
   "execution_count": null,
   "id": "052c137c",
   "metadata": {},
   "outputs": [],
   "source": []
  }
 ],
 "metadata": {
  "kernelspec": {
   "display_name": "Python 3 (ipykernel)",
   "language": "python",
   "name": "python3"
  },
  "language_info": {
   "codemirror_mode": {
    "name": "ipython",
    "version": 3
   },
   "file_extension": ".py",
   "mimetype": "text/x-python",
   "name": "python",
   "nbconvert_exporter": "python",
   "pygments_lexer": "ipython3",
   "version": "3.9.16"
  }
 },
 "nbformat": 4,
 "nbformat_minor": 5
}
