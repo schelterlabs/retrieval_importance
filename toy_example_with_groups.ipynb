{
 "cells": [
  {
   "cell_type": "code",
   "execution_count": 1,
   "id": "6f4ec5f3",
   "metadata": {},
   "outputs": [],
   "source": [
    "from retrieval_importance import learn_importance, encode_retrievals, encode_groups, v_grouped\n",
    "\n",
    "retrievals = [\n",
    "    {\n",
    "        \"question\": \"Which DB researcher won the turing award?\",\n",
    "        \"correct_answers\": [\"Mike Stonebraker\", \"M. Stonebraker\", \"Jim Gray\"],\n",
    "        \"retrieved_websites\": [\"wikipedia.org\", \"bing.com\", \"fakepedia.org\", \n",
    "                               \"google.com\", \"duckduckgo.com\", \"liepedia.org\"],\n",
    "        \"generated_answers\": [\"Mike Stonebraker\", \"Jim Gray\", \"S. Schelter\", \n",
    "                              \"Jim Gray\", \"M. Stonebraker\", \"S. Grafberger\"]\n",
    "    },\n",
    "]"
   ]
  },
  {
   "cell_type": "code",
   "execution_count": 2,
   "id": "bec9deb7",
   "metadata": {},
   "outputs": [],
   "source": [
    "def utility(retrieval, prediction):\n",
    "    if prediction in retrieval[\"correct_answers\"]:\n",
    "        return 1.0\n",
    "    else:\n",
    "        return 0.0"
   ]
  },
  {
   "cell_type": "code",
   "execution_count": 3,
   "id": "86e8edf0",
   "metadata": {},
   "outputs": [],
   "source": [
    "def group(retrieved):    \n",
    "    if retrieved in [\"google.com\", \"bing.com\", \"duckduckgo.com\"]:\n",
    "        return \"search engines\"\n",
    "    elif retrieved in [\"wikipedia.org\"]:     \n",
    "        return \"wikipedia\"\n",
    "    else:\n",
    "        return \"fake sources\""
   ]
  },
  {
   "cell_type": "code",
   "execution_count": 4,
   "id": "82d6e412",
   "metadata": {},
   "outputs": [],
   "source": [
    "encoded_retrievals, mapping = encode_retrievals(retrievals, \"retrieved_websites\", \"generated_answers\", utility)\n",
    "grouping, group_mapping = encode_groups(mapping, group)"
   ]
  },
  {
   "cell_type": "code",
   "execution_count": 5,
   "id": "2167d8b2",
   "metadata": {},
   "outputs": [],
   "source": [
    "v = learn_importance(encoded_retrievals, k=2, learning_rate=0.1, num_steps=10, n_jobs=1, grouping=grouping)"
   ]
  },
  {
   "cell_type": "code",
   "execution_count": 6,
   "id": "3d6c0dfe",
   "metadata": {},
   "outputs": [
    {
     "data": {
      "text/plain": [
       "{'fake sources': 0.3897523769525427,\n",
       " 'search engines': 0.6615680323909522,\n",
       " 'wikipedia': 0.751722178072463}"
      ]
     },
     "execution_count": 6,
     "metadata": {},
     "output_type": "execute_result"
    }
   ],
   "source": [
    "v_grouped(v, grouping, group_mapping)"
   ]
  },
  {
   "cell_type": "code",
   "execution_count": null,
   "id": "60c366a6",
   "metadata": {},
   "outputs": [],
   "source": []
  }
 ],
 "metadata": {
  "kernelspec": {
   "display_name": "Python 3 (ipykernel)",
   "language": "python",
   "name": "python3"
  },
  "language_info": {
   "codemirror_mode": {
    "name": "ipython",
    "version": 3
   },
   "file_extension": ".py",
   "mimetype": "text/x-python",
   "name": "python",
   "nbconvert_exporter": "python",
   "pygments_lexer": "ipython3",
   "version": "3.9.16"
  }
 },
 "nbformat": 4,
 "nbformat_minor": 5
}
