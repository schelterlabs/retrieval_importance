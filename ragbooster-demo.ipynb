{
 "cells": [
  {
   "cell_type": "code",
   "execution_count": 1,
   "id": "221b010f",
   "metadata": {},
   "outputs": [],
   "source": [
    "import re \n",
    "from retrieval_importance.demo import load_wikifact_questions, BingRetriever, GPT35Generator, score_no_retrieval, \\\n",
    "    score_with_retrieval_augmentation, score_with_ragbooster"
   ]
  },
  {
   "cell_type": "code",
   "execution_count": 2,
   "id": "a46e57bb",
   "metadata": {},
   "outputs": [
    {
     "data": {
      "text/plain": [
       "Question(text='Bill Belzer was born in', correct_answers=['Kansas City', 'Kansas City, MO', 'KCMO', 'KC', 'Kansas City, Missouri', 'K.C.', 'Kansas City', 'Kansas City'])"
      ]
     },
     "execution_count": 2,
     "metadata": {},
     "output_type": "execute_result"
    }
   ],
   "source": [
    "questions = load_wikifact_questions()\n",
    "questions[0]"
   ]
  },
  {
   "cell_type": "code",
   "execution_count": 3,
   "id": "446c84cc",
   "metadata": {},
   "outputs": [],
   "source": [
    "class MyLLMGenerator(GPT35Generator):\n",
    "    \n",
    "    FEW_SHOTS = \"\\nJerry Beck (born February 9, 1955, in New York City) is an American animation historian,\" +\\\n",
    "                \" author, blogger, and video producer.Beck wrote or edited several books on classic\" +\\\n",
    "                \" American animation and classic characters.\\nJerry Beck was born in New York\\n\\n\" +\\\n",
    "                \"Ettore Maria Fizzarotti (1916–1985) was an Italian film director and screenwriter.\" +\\\n",
    "                \" Born in Naples, the son of the director Armando, he debuted as assistant director\" +\\\n",
    "                \" in the films of his father.\\nEttore Maria Fizzarotti was born in Naples\\n\"    \n",
    "    \n",
    "    def _create_prompt(self, question, retrieved_text):        \n",
    "        if retrieved_text is None:\n",
    "            return f\"{self.FEW_SHOTS}\\n\\n{question.text}\"            \n",
    "        else:\n",
    "            return f\"{self.FEW_SHOTS}\\n\\n{retrieved_text}\\n\\n{question.text}\"             \n",
    "        \n",
    "    \n",
    "    def _extract_answer(self, response):\n",
    "        answer = response.get_response()          \n",
    "\n",
    "        answer = re.sub(r'[0-9]+', '', answer)\n",
    "        answer = answer.strip()   \n",
    "\n",
    "        if ',' in answer:\n",
    "            answer = answer.split(',')[0]\n",
    "            \n",
    "        if '.' in answer:\n",
    "            answer = answer.split('.')[0]\n",
    "\n",
    "        answer = answer.strip()  \n",
    "        return answer     "
   ]
  },
  {
   "cell_type": "code",
   "execution_count": 4,
   "id": "de7a04e1",
   "metadata": {},
   "outputs": [],
   "source": [
    "class MyBingRetriever(BingRetriever):\n",
    "    def create_query(self, prompt):\n",
    "        return prompt"
   ]
  },
  {
   "cell_type": "code",
   "execution_count": 5,
   "id": "c74f3729",
   "metadata": {},
   "outputs": [],
   "source": [
    "retriever = MyBingRetriever()\n",
    "generator = MyLLMGenerator()"
   ]
  },
  {
   "cell_type": "code",
   "execution_count": 6,
   "id": "9e2f454a",
   "metadata": {},
   "outputs": [],
   "source": [
    "validation_questions = questions[:500]\n",
    "test_questions = questions[500:1000]"
   ]
  },
  {
   "cell_type": "code",
   "execution_count": 7,
   "id": "a63d8f1b",
   "metadata": {},
   "outputs": [
    {
     "data": {
      "application/vnd.jupyter.widget-view+json": {
       "model_id": "a33ebda57bf44fd992a57b0bee5733de",
       "version_major": 2,
       "version_minor": 0
      },
      "text/plain": [
       "  0%|          | 0/500 [00:00<?, ?it/s]"
      ]
     },
     "metadata": {},
     "output_type": "display_data"
    },
    {
     "data": {
      "text/plain": [
       "0.048"
      ]
     },
     "execution_count": 7,
     "metadata": {},
     "output_type": "execute_result"
    }
   ],
   "source": [
    "score_no_retrieval(test_questions, generator)"
   ]
  },
  {
   "cell_type": "code",
   "execution_count": 8,
   "id": "2e89b7a4",
   "metadata": {},
   "outputs": [
    {
     "data": {
      "application/vnd.jupyter.widget-view+json": {
       "model_id": "19a399b6d9414e8a8603ce3443bb8795",
       "version_major": 2,
       "version_minor": 0
      },
      "text/plain": [
       "  0%|          | 0/500 [00:00<?, ?it/s]"
      ]
     },
     "metadata": {},
     "output_type": "display_data"
    },
    {
     "data": {
      "text/plain": [
       "0.336"
      ]
     },
     "execution_count": 8,
     "metadata": {},
     "output_type": "execute_result"
    }
   ],
   "source": [
    "score_with_retrieval_augmentation(test_questions, retriever, generator, k=1)"
   ]
  },
  {
   "cell_type": "code",
   "execution_count": 9,
   "id": "a8f078c2",
   "metadata": {},
   "outputs": [
    {
     "data": {
      "application/vnd.jupyter.widget-view+json": {
       "model_id": "7ab3939695374b94ae201686f6399b65",
       "version_major": 2,
       "version_minor": 0
      },
      "text/plain": [
       "  0%|          | 0/500 [00:00<?, ?it/s]"
      ]
     },
     "metadata": {},
     "output_type": "display_data"
    },
    {
     "data": {
      "text/plain": [
       "0.49"
      ]
     },
     "execution_count": 9,
     "metadata": {},
     "output_type": "execute_result"
    }
   ],
   "source": [
    "score_with_retrieval_augmentation(test_questions, retriever, generator, k=10)         "
   ]
  },
  {
   "cell_type": "code",
   "execution_count": 10,
   "id": "1f210788",
   "metadata": {},
   "outputs": [
    {
     "name": "stdout",
     "output_type": "stream",
     "text": [
      "Computing validation corpus...\n"
     ]
    },
    {
     "data": {
      "application/vnd.jupyter.widget-view+json": {
       "model_id": "60dd73271279405f88dbed3ab988993a",
       "version_major": 2,
       "version_minor": 0
      },
      "text/plain": [
       "  0%|          | 0/500 [00:00<?, ?it/s]"
      ]
     },
     "metadata": {},
     "output_type": "display_data"
    },
    {
     "name": "stdout",
     "output_type": "stream",
     "text": [
      "Learning importance weights for data sources...\n",
      "Tuning threshold for corpus pruning...\n",
      "Computing pruned predictions...\n"
     ]
    },
    {
     "data": {
      "application/vnd.jupyter.widget-view+json": {
       "model_id": "f0cb55a2dec947e1a5598a94e59e1f8c",
       "version_major": 2,
       "version_minor": 0
      },
      "text/plain": [
       "  0%|          | 0/500 [00:00<?, ?it/s]"
      ]
     },
     "metadata": {},
     "output_type": "display_data"
    },
    {
     "data": {
      "text/plain": [
       "0.516"
      ]
     },
     "execution_count": 10,
     "metadata": {},
     "output_type": "execute_result"
    }
   ],
   "source": [
    "score_with_ragbooster(validation_questions, test_questions, retriever, generator, k=10)             "
   ]
  },
  {
   "cell_type": "code",
   "execution_count": null,
   "id": "e0341d9b",
   "metadata": {},
   "outputs": [],
   "source": []
  }
 ],
 "metadata": {
  "kernelspec": {
   "display_name": "Python 3 (ipykernel)",
   "language": "python",
   "name": "python3"
  },
  "language_info": {
   "codemirror_mode": {
    "name": "ipython",
    "version": 3
   },
   "file_extension": ".py",
   "mimetype": "text/x-python",
   "name": "python",
   "nbconvert_exporter": "python",
   "pygments_lexer": "ipython3",
   "version": "3.9.16"
  }
 },
 "nbformat": 4,
 "nbformat_minor": 5
}
