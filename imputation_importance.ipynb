{
 "cells": [
  {
   "cell_type": "code",
   "execution_count": 1,
   "id": "f254fdff",
   "metadata": {},
   "outputs": [],
   "source": [
    "import pandas as pd\n",
    "from tldextract import extract\n",
    "\n",
    "#dataset = 'restaurant'\n",
    "#target = 'city'\n",
    "\n",
    "dataset = 'buy'\n",
    "target = 'manufacturer'\n",
    "\n",
    "\n",
    "trainset = pd.read_csv(f'applications/imputation/data/{dataset}/train.csv')\n",
    "validset = pd.read_csv(f'applications/imputation/data/{dataset}/valid.csv')\n",
    "testset = pd.read_csv(f'applications/imputation/data/{dataset}/test.csv')\n",
    "\n",
    "valid_answers = pd.read_csv(f'applications/imputation/answers/{dataset}_minilm/valid.csv')\n",
    "test_answers = pd.read_csv(f'applications/imputation/answers/{dataset}_minilm/test.csv')"
   ]
  },
  {
   "cell_type": "code",
   "execution_count": 2,
   "id": "675a9a12",
   "metadata": {},
   "outputs": [],
   "source": [
    "def create_retrievals(trainset, target, test_or_valid_set, test_or_valid_answers):\n",
    "    \n",
    "    retrievals = []\n",
    "\n",
    "    observed_labels = [label.lower() for label in trainset[target].unique()]\n",
    "\n",
    "    for sample_index, row in test_or_valid_set.iterrows():\n",
    "\n",
    "        retrieved_websites = []\n",
    "        generated_answers = []\n",
    "\n",
    "        raw_answers_for_sample = test_or_valid_answers[test_or_valid_answers.sample_index==sample_index].sort_values(by=['position'])\n",
    "\n",
    "        for _, raw_answer in raw_answers_for_sample.iterrows():\n",
    "\n",
    "            prediction = raw_answer.answer.lower()\n",
    "            # use training label if predicted label is a substring\n",
    "            for observed_label in observed_labels:\n",
    "                if prediction in observed_label:\n",
    "                    prediction = observed_label\n",
    "                    break        \n",
    "\n",
    "            retrieved_websites.append(raw_answer.url)\n",
    "            generated_answers.append(prediction)\n",
    "\n",
    "        retrievals.append({\n",
    "            \"sample_index\": sample_index,\n",
    "            \"correct_answers\": [row[target].lower()],\n",
    "            \"retrieved_websites\": retrieved_websites,\n",
    "            \"generated_answers\": generated_answers,\n",
    "        })    \n",
    "        \n",
    "    return retrievals        "
   ]
  },
  {
   "cell_type": "code",
   "execution_count": 3,
   "id": "35e8a6a2",
   "metadata": {},
   "outputs": [],
   "source": [
    "def utility(retrieval, prediction):\n",
    "    if prediction in retrieval[\"correct_answers\"]:\n",
    "        return 1.0\n",
    "    else:\n",
    "        return 0.0"
   ]
  },
  {
   "cell_type": "code",
   "execution_count": 4,
   "id": "219b1f73",
   "metadata": {},
   "outputs": [],
   "source": [
    "def group(retrieved):    \n",
    "    _, domain_name, ending = extract(retrieved)\n",
    "    return f'{domain_name}.{ending}'"
   ]
  },
  {
   "cell_type": "code",
   "execution_count": 5,
   "id": "93457fac",
   "metadata": {},
   "outputs": [],
   "source": [
    "from retrieval_importance import learn_importance, encode_retrievals, encode_groups, v_grouped\n",
    "\n",
    "validset_retrievals = create_retrievals(trainset, target, validset, valid_answers)\n",
    "encoded_retrievals, mapping = encode_retrievals(validset_retrievals, \"retrieved_websites\", \"generated_answers\", \n",
    "                                                utility)\n",
    "grouping, group_mapping = encode_groups(mapping, group)\n",
    "\n",
    "v = learn_importance(encoded_retrievals, k=10, learning_rate=0.1, num_steps=500, n_jobs=-1, grouping=grouping)\n",
    "\n",
    "group_importances = v_grouped(v, grouping, group_mapping)"
   ]
  },
  {
   "cell_type": "code",
   "execution_count": 6,
   "id": "3f1fcc37",
   "metadata": {},
   "outputs": [
    {
     "data": {
      "text/plain": [
       "[('kenwood.com', 0.542688825629156),\n",
       " ('tacomaworld.com', 0.542688825629156),\n",
       " ('appleiphonereview.com', 0.5363816321662923),\n",
       " ('internetrader.com', 0.5363816321662923),\n",
       " ('huntoffice.ie', 0.5363378455875544),\n",
       " ('thinkcomputers.org', 0.5363378455875544),\n",
       " ('omnimount.com', 0.5356277998146017),\n",
       " ('mooz.reviews', 0.5329131550708474),\n",
       " ('qualitymobilevideo.com', 0.5317792209735135),\n",
       " ('ldproducts.com', 0.5312337329329281)]"
      ]
     },
     "execution_count": 6,
     "metadata": {},
     "output_type": "execute_result"
    }
   ],
   "source": [
    "from operator import itemgetter\n",
    "sorted(group_importances.items(), key = itemgetter(1), reverse = True)[:10]"
   ]
  },
  {
   "cell_type": "code",
   "execution_count": 7,
   "id": "f75ebcae",
   "metadata": {},
   "outputs": [
    {
     "data": {
      "text/plain": [
       "[('nikonimgsupport.com', 0.4316519523395776),\n",
       " ('bobvila.com', 0.44547142554403796),\n",
       " ('homechit.com', 0.4488742787499718),\n",
       " ('dvdfab.org', 0.45874378505397057),\n",
       " ('superuser.com', 0.4626051883264587),\n",
       " ('quora.com', 0.46492755983875594),\n",
       " ('askanydifference.com', 0.46547241617616625),\n",
       " ('cheapassgamer.com', 0.46547241617616625),\n",
       " ('manuals.plus', 0.4694615495112489),\n",
       " ('columbia.edu', 0.46971805159528907)]"
      ]
     },
     "execution_count": 7,
     "metadata": {},
     "output_type": "execute_result"
    }
   ],
   "source": [
    "sorted(group_importances.items(), key = itemgetter(1))[:10]"
   ]
  },
  {
   "cell_type": "code",
   "execution_count": 8,
   "id": "19b51dd6",
   "metadata": {},
   "outputs": [],
   "source": [
    "from statistics import mode\n",
    "\n",
    "def eval_accuracy(retrievals, k):\n",
    "    correct = 0\n",
    "\n",
    "    for retrieval in retrievals:\n",
    "        prediction = mode(retrieval['generated_answers'][:k])\n",
    "        if prediction in retrieval['correct_answers']:\n",
    "            correct += 1\n",
    "\n",
    "    accuracy = correct / len(retrievals)\n",
    "    return accuracy\n",
    "\n",
    "\n",
    "def eval_accuracy_thresholded(retrievals, group_importances, k, threshold):\n",
    "    correct = 0\n",
    "\n",
    "    for retrieval in retrievals:\n",
    "\n",
    "        \n",
    "        filtered_answers = [\n",
    "            answer\n",
    "                for website, answer \n",
    "                in zip(retrieval['retrieved_websites'], retrieval['generated_answers'])\n",
    "                if group(website) in group_importances and group_importances[group(website)] > threshold\n",
    "            ]\n",
    "\n",
    "        if len(filtered_answers) > 0:\n",
    "            prediction = mode(filtered_answers[:k])\n",
    "            if prediction in retrieval['correct_answers']:\n",
    "                correct += 1\n",
    "\n",
    "    accuracy = correct / len(retrievals)\n",
    "    return accuracy"
   ]
  },
  {
   "cell_type": "code",
   "execution_count": 9,
   "id": "daa66b5e",
   "metadata": {},
   "outputs": [
    {
     "data": {
      "text/plain": [
       "0.8888888888888888"
      ]
     },
     "execution_count": 9,
     "metadata": {},
     "output_type": "execute_result"
    }
   ],
   "source": [
    "eval_accuracy(validset_retrievals, k=10)"
   ]
  },
  {
   "cell_type": "code",
   "execution_count": 10,
   "id": "a8b51e6b",
   "metadata": {},
   "outputs": [
    {
     "data": {
      "text/plain": [
       "0.9230769230769231"
      ]
     },
     "execution_count": 10,
     "metadata": {},
     "output_type": "execute_result"
    }
   ],
   "source": [
    "eval_accuracy_thresholded(validset_retrievals, group_importances, k=10, threshold=0.5)"
   ]
  },
  {
   "cell_type": "code",
   "execution_count": 11,
   "id": "6d695ab3",
   "metadata": {},
   "outputs": [],
   "source": [
    "testset_retrievals = create_retrievals(trainset, target, testset, test_answers)"
   ]
  },
  {
   "cell_type": "code",
   "execution_count": 12,
   "id": "ebf71de1",
   "metadata": {},
   "outputs": [
    {
     "data": {
      "text/plain": [
       "0.8769230769230769"
      ]
     },
     "execution_count": 12,
     "metadata": {},
     "output_type": "execute_result"
    }
   ],
   "source": [
    "eval_accuracy(testset_retrievals, k=10)"
   ]
  },
  {
   "cell_type": "code",
   "execution_count": 13,
   "id": "5e2904cf",
   "metadata": {},
   "outputs": [
    {
     "data": {
      "text/plain": [
       "0.8923076923076924"
      ]
     },
     "execution_count": 13,
     "metadata": {},
     "output_type": "execute_result"
    }
   ],
   "source": [
    "eval_accuracy_thresholded(testset_retrievals, group_importances, k=10, threshold=0.5)"
   ]
  },
  {
   "cell_type": "code",
   "execution_count": null,
   "id": "b7889e72",
   "metadata": {},
   "outputs": [],
   "source": []
  }
 ],
 "metadata": {
  "kernelspec": {
   "display_name": "Python 3 (ipykernel)",
   "language": "python",
   "name": "python3"
  },
  "language_info": {
   "codemirror_mode": {
    "name": "ipython",
    "version": 3
   },
   "file_extension": ".py",
   "mimetype": "text/x-python",
   "name": "python",
   "nbconvert_exporter": "python",
   "pygments_lexer": "ipython3",
   "version": "3.9.16"
  }
 },
 "nbformat": 4,
 "nbformat_minor": 5
}
