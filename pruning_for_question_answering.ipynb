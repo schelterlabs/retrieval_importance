{
 "cells": [
  {
   "cell_type": "code",
   "execution_count": 1,
   "id": "ab2644e9",
   "metadata": {},
   "outputs": [],
   "source": [
    "import numpy as np\n",
    "import pandas as pd\n",
    "import json\n",
    "from pprint import pp\n",
    "import tldextract\n",
    "from scipy import stats\n",
    "\n",
    "from retrieval_importance import split, learn_importance, encode_retrievals, encode_groups, grouped_weights, \\\n",
    "    most_important_groups, least_important_groups, retrievals_from_json, evaluate, evaluate_pruned, \\\n",
    "    tune_pruning_threshold\n",
    "\n",
    "np.random.seed(7334)"
   ]
  },
  {
   "cell_type": "code",
   "execution_count": 2,
   "id": "27c4f56d",
   "metadata": {},
   "outputs": [],
   "source": [
    "relation = 'director'\n",
    "\n",
    "retrievals = retrievals_from_json(f'./applications/question_answering/wikifact__{relation}.jsonl')"
   ]
  },
  {
   "cell_type": "code",
   "execution_count": 3,
   "id": "067a7fec",
   "metadata": {},
   "outputs": [
    {
     "name": "stdout",
     "output_type": "stream",
     "text": [
      "{'question': 'The director of Disparaît, v is',\n",
      " 'correct_answers': ['Andrei Severny'],\n",
      " 'retrieved_answers': ['Andrei Severny', 'Andrei Severny', 'Andrei Severny', 'Auraeus Solito',\n",
      "                       'Auraeus Solito', 'Auraeus Solito', 'Auraeus Solito', 'Auraeus Solito',\n",
      "                       'Auraeus Solito.', 'Auraeus Solito', 'Auraeus Solito', 'Auraeus Solito',\n",
      "                       'Auraeus Solito', 'Auraeus Solito', 'Aureaus Solito.', 'Aureaus Solito',\n",
      "                       'Auraeus Solito', 'Auraeus Solito', 'Aureaus Solito', 'Aureaus Solito.',\n",
      "                       'Auraeus Solito', 'Auraeus Solito', 'Auraeus Solito', 'Auraeus Solito',\n",
      "                       'Aureaus Solito', 'Auraeus Solito', 'Aureaus Solito', 'Auraeus Solito',\n",
      "                       'Auraeus Solito', 'Aureaus Solito', 'Auraeus Solito', 'Aureaus Solito',\n",
      "                       'Jacques Feyder.', 'Aureaus Solito', 'Aureaus Solito', 'Auraeus Solito',\n",
      "                       'Jacques Feyder.', 'Auraeus Solito.', 'Auraeus Solito.', 'Auraeus Solito',\n",
      "                       'Auraeus Solito', 'Aureaus Solito', 'Aureaus Solito', 'Aureaus Solito',\n",
      "                       'Alfred Hitchcock', 'Auraeus Solito', 'Aureaus Solito'],\n",
      " 'retrieved_websites': ['en.wikipedia.org', 'wiki2.org', 'wikimili.com', 'www.wikidata.org',\n",
      "                        'www.frenchconjugation.com', 'conjugator.reverso.net', 'nl.abcdef.wiki',\n",
      "                        'www.imdb.com', 'english.stackexchange.com', 'www.indeed.com',\n",
      "                        'northwest.education', 'sv.abcdef.wiki', 'en.wikipedia.org',\n",
      "                        'leconjugueur.lefigaro.fr', 'atozwiki.com', 'www.indeed.com',\n",
      "                        'commons.wikimedia.org', 'www.vidinoti.com', 'www.videospace.fi',\n",
      "                        'www.definitions.net', 'www.reuters.com', 'www2.deloitte.com',\n",
      "                        'www.linguee.fr', 'www.linguee.fr', 'stackoverflow.com', 'www.extike.com',\n",
      "                        'www.lemonde.fr', 'support.lenovo.com', 'www.wordhippo.com',\n",
      "                        'www.youtube.com', 'www.letemps.ch', 'www.vitalsource.com', 'www.alamy.com',\n",
      "                        'context.reverso.net', 'www.youtube.com', 'fr.wikipedia.org',\n",
      "                        'www.alamy.com', 'www.weltbild.ch', 'context.reverso.net',\n",
      "                        'fr.wikipedia.org', 'www.huffpost.com', 'www.allocine.fr',\n",
      "                        'www.allocine.fr', 'www.imdb.com', 'www.critikat.com',\n",
      "                        'streamingfilmvfr.66ghz.com', 'www.ncbi.nlm.nih.gov']}\n"
     ]
    }
   ],
   "source": [
    "pp(retrievals[0], width=100, compact=True)"
   ]
  },
  {
   "cell_type": "code",
   "execution_count": 4,
   "id": "fdf87dc0",
   "metadata": {},
   "outputs": [],
   "source": [
    "validation, test = split(retrievals, 0.5)"
   ]
  },
  {
   "cell_type": "code",
   "execution_count": 5,
   "id": "cbd5c776",
   "metadata": {},
   "outputs": [],
   "source": [
    "def utility(retrieved, prediction):\n",
    "    if prediction in retrieved[\"correct_answers\"]:\n",
    "        return 1.0\n",
    "    else:\n",
    "        return 0.0\n",
    "    \n",
    "def group(retrieved):    \n",
    "    url_parts = tldextract.extract(retrieved)\n",
    "    return f'{url_parts.domain}.{url_parts.suffix}'    "
   ]
  },
  {
   "cell_type": "code",
   "execution_count": 6,
   "id": "79410051",
   "metadata": {},
   "outputs": [],
   "source": [
    "encoded_retrievals, mapping = encode_retrievals(validation, \"retrieved_websites\", \"retrieved_answers\", utility)\n",
    "grouping, group_mapping = encode_groups(mapping, group)\n",
    "\n",
    "k = 10\n",
    "\n",
    "weights = learn_importance(encoded_retrievals, k=k, learning_rate=10, num_steps=100, n_jobs=-1, grouping=grouping)\n",
    "domain_weights = grouped_weights(weights, grouping, group_mapping)"
   ]
  },
  {
   "cell_type": "code",
   "execution_count": 7,
   "id": "d4ad790e",
   "metadata": {},
   "outputs": [
    {
     "data": {
      "text/plain": [
       "[('alchetron.com', 1.0),\n",
       " ('allmovie.com', 1.0),\n",
       " ('azmovies.net', 1.0),\n",
       " ('bharatpedia.org', 1.0),\n",
       " ('everipedia.org', 1.0)]"
      ]
     },
     "execution_count": 7,
     "metadata": {},
     "output_type": "execute_result"
    }
   ],
   "source": [
    "most_important_groups(domain_weights, 5)"
   ]
  },
  {
   "cell_type": "code",
   "execution_count": 8,
   "id": "7fa42f30",
   "metadata": {},
   "outputs": [
    {
     "data": {
      "text/plain": [
       "[('avclub.com', 0.0),\n",
       " ('goodreads.com', 0.0),\n",
       " ('kinorium.com', 0.0),\n",
       " ('reddit.com', 0.0),\n",
       " ('theguardian.com', 0.0)]"
      ]
     },
     "execution_count": 8,
     "metadata": {},
     "output_type": "execute_result"
    }
   ],
   "source": [
    "least_important_groups(domain_weights, 5)"
   ]
  },
  {
   "cell_type": "code",
   "execution_count": 12,
   "id": "ab64e39e",
   "metadata": {},
   "outputs": [
    {
     "data": {
      "image/png": "[encoded data removed]",
      "text/plain": [
       "<Figure size 640x480 with 1 Axes>"
      ]
     },
     "metadata": {},
     "output_type": "display_data"
    },
    {
     "name": "stdout",
     "output_type": "stream",
     "text": [
      "Found best (normalized) utility of 0.3296296296296296 on validation set with threshold 0.4996988715716625, removing 28 percent of domains\n"
     ]
    }
   ],
   "source": [
    "import matplotlib.pyplot as plt\n",
    "\n",
    "percentile_range = range(0, 100, 1)\n",
    "\n",
    "tuning_result = tune_pruning_threshold(validation, domain_weights, percentile_range, utility, k, normalize=True)\n",
    "\n",
    "plt.plot(percentile_range, tuning_result.achieved_utilities)     \n",
    "plt.ylabel('normalized utility')\n",
    "plt.xlabel('percentage of pruned sources')\n",
    "plt.show()\n",
    "        \n",
    "print(f'Found best (normalized) utility of {tuning_result.best_utility} on validation set ' +\n",
    "      f'with threshold {tuning_result.best_threshold}, ' + \n",
    "      f'removing {tuning_result.best_percentile} percent of domains')        "
   ]
  },
  {
   "cell_type": "code",
   "execution_count": 13,
   "id": "b1d9e497",
   "metadata": {},
   "outputs": [
    {
     "data": {
      "text/plain": [
       "0.29259259259259257"
      ]
     },
     "execution_count": 13,
     "metadata": {},
     "output_type": "execute_result"
    }
   ],
   "source": [
    "evaluate(test, utility, k, normalize=True)"
   ]
  },
  {
   "cell_type": "code",
   "execution_count": 14,
   "id": "6232058b",
   "metadata": {},
   "outputs": [
    {
     "data": {
      "text/plain": [
       "0.30592592592592593"
      ]
     },
     "execution_count": 14,
     "metadata": {},
     "output_type": "execute_result"
    }
   ],
   "source": [
    "evaluate_pruned(test, utility, k, tuning_result.best_threshold, domain_weights, normalize=True)"
   ]
  },
  {
   "cell_type": "code",
   "execution_count": null,
   "id": "b9eae5fe",
   "metadata": {},
   "outputs": [],
   "source": []
  }
 ],
 "metadata": {
  "kernelspec": {
   "display_name": "Python 3 (ipykernel)",
   "language": "python",
   "name": "python3"
  },
  "language_info": {
   "codemirror_mode": {
    "name": "ipython",
    "version": 3
   },
   "file_extension": ".py",
   "mimetype": "text/x-python",
   "name": "python",
   "nbconvert_exporter": "python",
   "pygments_lexer": "ipython3",
   "version": "3.9.16"
  }
 },
 "nbformat": 4,
 "nbformat_minor": 5
}
