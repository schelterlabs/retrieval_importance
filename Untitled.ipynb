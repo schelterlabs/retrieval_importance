{
 "cells": [
  {
   "cell_type": "code",
   "execution_count": 32,
   "id": "ea0397e5",
   "metadata": {},
   "outputs": [],
   "source": [
    "import pandas as pd\n",
    "import json"
   ]
  },
  {
   "cell_type": "code",
   "execution_count": 43,
   "id": "8b55ccee",
   "metadata": {},
   "outputs": [],
   "source": [
    "#task = 'buy'\n",
    "#column_to_impute = 'manufacturer'\n",
    "task = 'restaurant'\n",
    "column_to_impute = 'city'\n",
    "\n",
    "with open(f'applications/imputation/bing_gptjt6b/{task}.jsonl', 'w') as the_file:\n",
    "    for split in ['train', 'valid', 'test']:\n",
    "        table = pd.read_csv(f'applications/imputation/data/{task}/{split}.csv')\n",
    "        answers = pd.read_csv(f'applications/imputation/answers/{task}_gptjt6b/{split}.csv')\n",
    "\n",
    "        columns = [column for column in table.columns if column != column_to_impute]\n",
    "\n",
    "        for index, row in table.iterrows():\n",
    "            answers_for_sample = answers[answers.sample_index==index]\n",
    "\n",
    "            retrieved = {\n",
    "                'question': ';'.join([str(value) for value in row[columns]]),\n",
    "                'correct_answers': [str(row[column_to_impute].lower())],\n",
    "                'retrieved_answers': list([str(value) for value in answers_for_sample.answer]),\n",
    "                'retrieved_websites': list(answers_for_sample.url),\n",
    "            }\n",
    "\n",
    "\n",
    "            the_file.write(json.dumps(retrieved) + '\\n')"
   ]
  },
  {
   "cell_type": "code",
   "execution_count": null,
   "id": "3d023bd1",
   "metadata": {},
   "outputs": [],
   "source": []
  }
 ],
 "metadata": {
  "kernelspec": {
   "display_name": "Python 3 (ipykernel)",
   "language": "python",
   "name": "python3"
  },
  "language_info": {
   "codemirror_mode": {
    "name": "ipython",
    "version": 3
   },
   "file_extension": ".py",
   "mimetype": "text/x-python",
   "name": "python",
   "nbconvert_exporter": "python",
   "pygments_lexer": "ipython3",
   "version": "3.9.16"
  }
 },
 "nbformat": 4,
 "nbformat_minor": 5
}
